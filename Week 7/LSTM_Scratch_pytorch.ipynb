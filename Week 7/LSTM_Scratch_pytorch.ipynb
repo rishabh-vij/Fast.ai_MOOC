{
 "cells": [
  {
   "cell_type": "markdown",
   "metadata": {
    "colab_type": "text",
    "id": "0WuyWZJm5CEy"
   },
   "source": [
    "## LSTM from scratch"
   ]
  },
  {
   "cell_type": "code",
   "execution_count": 0,
   "metadata": {
    "colab": {
     "autoexec": {
      "startup": false,
      "wait_interval": 0
     }
    },
    "colab_type": "code",
    "id": "9S9CKFwNoXw1"
   },
   "outputs": [],
   "source": [
    "#!pip install opencv-python\n",
    "#!apt update && apt install -y libsm6 libxext6\n",
    "!pip3 install http://download.pytorch.org/whl/cu80/torch-0.3.0.post4-cp36-cp36m-linux_x86_64.whl \n",
    "! pip3 install fastai\n",
    "#!pip3 install torchvision\n",
    "! pip install torchtext"
   ]
  },
  {
   "cell_type": "code",
   "execution_count": null,
   "metadata": {
    "colab": {
     "autoexec": {
      "startup": false,
      "wait_interval": 0
     },
     "base_uri": "https://localhost:8080/",
     "height": 1243
    },
    "colab_type": "code",
    "executionInfo": {
     "elapsed": 351226,
     "status": "ok",
     "timestamp": 1533336160171,
     "user": {
      "displayName": "Rishabh Vij",
      "photoUrl": "https://lh3.googleusercontent.com/a/default-user=s128",
      "userId": "116715461577636413908"
     },
     "user_tz": -330
    },
    "id": "RRTRmTn974y5",
    "outputId": "7e3f8508-7109-463c-9b38-39ec3cc7bef4"
   },
   "outputs": [],
   "source": [
    "! pip install spacy"
   ]
  },
  {
   "cell_type": "code",
   "execution_count": 2,
   "metadata": {
    "colab": {
     "autoexec": {
      "startup": false,
      "wait_interval": 0
     },
     "base_uri": "https://localhost:8080/",
     "height": 53
    },
    "colab_type": "code",
    "executionInfo": {
     "elapsed": 10052,
     "status": "ok",
     "timestamp": 1533335508513,
     "user": {
      "displayName": "Rishabh Vij",
      "photoUrl": "https://lh3.googleusercontent.com/a/default-user=s128",
      "userId": "116715461577636413908"
     },
     "user_tz": -330
    },
    "id": "vSZM2m2t5GFr",
    "outputId": "f1777b5f-bc2c-4e6b-b591-c168bf52cd40"
   },
   "outputs": [
    {
     "name": "stderr",
     "output_type": "stream",
     "text": [
      "nietzsche.txt: 606kB [00:00, 1.01MB/s]                           "
     ]
    },
    {
     "name": "stdout",
     "output_type": "stream",
     "text": [
      "corpus length: 600893\n"
     ]
    },
    {
     "name": "stderr",
     "output_type": "stream",
     "text": [
      "\n"
     ]
    }
   ],
   "source": [
    "%reload_ext autoreload\n",
    "%autoreload 2\n",
    "%matplotlib inline\n",
    "\n",
    "from fastai.io import *\n",
    "from fastai.conv_learner import *\n",
    "from fastai.column_data import *\n",
    "\n",
    "PATH='data/nietzsche/'\n",
    "get_data(\"https://s3.amazonaws.com/text-datasets/nietzsche.txt\", f'{PATH}nietzsche.txt')\n",
    "text = open(f'{PATH}nietzsche.txt').read()\n",
    "print('corpus length:', len(text))"
   ]
  },
  {
   "cell_type": "code",
   "execution_count": 0,
   "metadata": {
    "colab": {
     "autoexec": {
      "startup": false,
      "wait_interval": 0
     }
    },
    "colab_type": "code",
    "id": "WCkh2CGo6u4-"
   },
   "outputs": [],
   "source": [
    "TRN='data/nietzsche/trn'\n",
    "VAL='data/nietzsche/val'\n",
    "\n",
    "os.makedirs(TRN, exist_ok=True)\n",
    "os.makedirs(VAL, exist_ok=True)\n",
    "\n",
    "train_perc = .8\n",
    "with open(f'{PATH}/nietzsche.txt', 'r') as fp:\n",
    "    lines = fp.readlines()\n",
    "    text_len = len(lines)\n",
    "    part_train = open(f'{TRN}nietzsche1.txt', 'w')\n",
    "    part_val = open(f'{VAL}nietzsche2.txt', 'w')    \n",
    "    for ix,l in enumerate(lines):\n",
    "\n",
    "        if ix/text_len<train_perc:\n",
    "            part_train.write(l)\n",
    "        else:\n",
    "            part_val.write(l)\n",
    "    part_train.close()\n",
    "    part_val.close()    "
   ]
  },
  {
   "cell_type": "code",
   "execution_count": 0,
   "metadata": {
    "colab": {
     "autoexec": {
      "startup": false,
      "wait_interval": 0
     }
    },
    "colab_type": "code",
    "id": "Up8h_mXL65tU"
   },
   "outputs": [],
   "source": [
    "from torchtext import vocab, data\n",
    "\n",
    "from fastai.nlp import *\n",
    "from fastai.lm_rnn import *\n",
    "\n",
    "PATH='data/nietzsche/'\n",
    "\n",
    "TRN_PATH = 'trn/'\n",
    "VAL_PATH = 'val/'\n",
    "TRN = f'{PATH}{TRN_PATH}'\n",
    "VAL = f'{PATH}{VAL_PATH}'"
   ]
  },
  {
   "cell_type": "code",
   "execution_count": 0,
   "metadata": {
    "colab": {
     "autoexec": {
      "startup": false,
      "wait_interval": 0
     }
    },
    "colab_type": "code",
    "id": "CjEgIz5n_X2q"
   },
   "outputs": [],
   "source": [
    "! mv data/nietzsche/trnnietzsche1.txt data/nietzsche/trn\n",
    "! mv data/nietzsche/valnietzsche2.txt data/nietzsche/val"
   ]
  },
  {
   "cell_type": "code",
   "execution_count": 59,
   "metadata": {
    "colab": {
     "autoexec": {
      "startup": false,
      "wait_interval": 0
     },
     "base_uri": "https://localhost:8080/",
     "height": 35
    },
    "colab_type": "code",
    "executionInfo": {
     "elapsed": 2590,
     "status": "ok",
     "timestamp": 1533339363793,
     "user": {
      "displayName": "Rishabh Vij",
      "photoUrl": "https://lh3.googleusercontent.com/a/default-user=s128",
      "userId": "116715461577636413908"
     },
     "user_tz": -330
    },
    "id": "YjVfcHt27Xsx",
    "outputId": "d43a587c-e08b-4d68-c9cd-fcea3c44c247"
   },
   "outputs": [
    {
     "name": "stdout",
     "output_type": "stream",
     "text": [
      "\u001b[0m\u001b[01;34mmodels\u001b[0m/  nietzsche.txt  \u001b[01;34mtrn\u001b[0m/  \u001b[01;34mval\u001b[0m/\r\n"
     ]
    }
   ],
   "source": [
    "ls data/nietzsche\n"
   ]
  },
  {
   "cell_type": "code",
   "execution_count": 0,
   "metadata": {
    "colab": {
     "autoexec": {
      "startup": false,
      "wait_interval": 0
     }
    },
    "colab_type": "code",
    "id": "NgFy852B_Nqp"
   },
   "outputs": [],
   "source": [
    "TEXT= data.Field(lower=True,tokenize=list)\n",
    "bs=64; bptt= 8; n_fac=42; n_hidden=512\n",
    "                 "
   ]
  },
  {
   "cell_type": "code",
   "execution_count": 0,
   "metadata": {
    "colab": {
     "autoexec": {
      "startup": false,
      "wait_interval": 0
     }
    },
    "colab_type": "code",
    "id": "nTOW9_Wl7ZXS"
   },
   "outputs": [],
   "source": [
    "FILES= dict(train=TRN_PATH,validation=VAL_PATH,test=VAL_PATH)\n",
    "md=LanguageModelData.from_text_files(PATH,TEXT,**FILES,bs=bs,bptt=bptt,min_freq=3)"
   ]
  },
  {
   "cell_type": "markdown",
   "metadata": {
    "colab_type": "text",
    "id": "vrB8JRU6Bxs8"
   },
   "source": [
    "## LSTM-Long Short Term Memory\n",
    "**Using LSTM we can generate multiple characters of output as LSTM will also save the state. For this we use non overlapping data unlike last what we did for the last char predictions model**"
   ]
  },
  {
   "cell_type": "code",
   "execution_count": 0,
   "metadata": {
    "colab": {
     "autoexec": {
      "startup": false,
      "wait_interval": 0
     }
    },
    "colab_type": "code",
    "id": "0bZOHivt9ltK"
   },
   "outputs": [],
   "source": [
    "from fastai import sgdr\n"
   ]
  },
  {
   "cell_type": "code",
   "execution_count": 0,
   "metadata": {
    "colab": {
     "autoexec": {
      "startup": false,
      "wait_interval": 0
     }
    },
    "colab_type": "code",
    "id": "U5ujRmXZOcNo"
   },
   "outputs": [],
   "source": [
    "# Functions to test our model\n",
    "def get_next(inp):\n",
    "    idxs = TEXT.numericalize(inp)\n",
    "    p = model(VV(idxs.transpose(0,1)))\n",
    "    r = torch.multinomial(p[-1].exp(), 1)\n",
    "    return TEXT.vocab.itos[to_np(r)[0]]\n",
    "def get_next_n(inp, n):\n",
    "    res = inp\n",
    "    for i in range(n):\n",
    "        c = get_next(inp)\n",
    "        res += c\n",
    "        inp = inp[1:]+c\n",
    "    return res"
   ]
  },
  {
   "cell_type": "code",
   "execution_count": 0,
   "metadata": {
    "colab": {
     "autoexec": {
      "startup": false,
      "wait_interval": 0
     }
    },
    "colab_type": "code",
    "id": "yoRlliIT-1M_"
   },
   "outputs": [],
   "source": [
    "class charlstm(nn.Module):\n",
    "  def __init__(self,vocab_size,n_fac,bs,nl):\n",
    "    super().__init__()\n",
    "    self.vocab_size=vocab_size\n",
    "    self.nl=nl\n",
    "    self.e=nn.Embedding(vocab_size,n_fac)\n",
    "    self.rnn=nn.LSTM(n_fac,n_hidden,nl,dropout=0.5)\n",
    "    self.l_out=nn.Linear(n_hidden,vocab_size)\n",
    "    self.init_hidden(bs)\n",
    "\n",
    "  def init_hidden(self,bs):\n",
    "    self.h=(V(torch.zeros(self.nl, bs, n_hidden)),V(torch.zeros(self.nl, bs, n_hidden)))\n",
    "    \n",
    "  def forward(self,cs):\n",
    "    bs=cs[0].size(0)\n",
    "    if self.h[0].size(1)!= bs: self.init_hidden(bs)\n",
    "    outp,h=self.rnn(self.e(cs),self.h)\n",
    "    self.h=repackage_var(h)\n",
    "    res=F.log_softmax(self.l_out(outp),dim= -1).view(-1,self.vocab_size)\n",
    "    return res\n",
    "    "
   ]
  },
  {
   "cell_type": "code",
   "execution_count": 0,
   "metadata": {
    "colab": {
     "autoexec": {
      "startup": false,
      "wait_interval": 0
     }
    },
    "colab_type": "code",
    "id": "S5qDL38oGxIq"
   },
   "outputs": [],
   "source": [
    "model=charlstm(md.nt,n_fac,512,2).cuda()\n",
    "lo= LayerOptimizer(optim.Adam,model,1e-2, 1e-5) #fastai class to set optimizer and use callbacks for cosine Annealing"
   ]
  },
  {
   "cell_type": "code",
   "execution_count": 0,
   "metadata": {
    "colab": {
     "autoexec": {
      "startup": false,
      "wait_interval": 0
     }
    },
    "colab_type": "code",
    "id": "uTTCBitIHsN0"
   },
   "outputs": [],
   "source": [
    "os.makedirs(f'{PATH}models', exist_ok=True)\n",
    "on_end = lambda sched, cycle: save_model(model, f'{PATH}models/cyc_{cycle}')\n",
    "cb = [CosAnneal(lo, len(md.trn_dl), cycle_mult=2, on_cycle_end=on_end)] #callbacks- Cosine Anealing(to decrease the lr while raining)\n"
   ]
  },
  {
   "cell_type": "code",
   "execution_count": 63,
   "metadata": {
    "colab": {
     "autoexec": {
      "startup": false,
      "wait_interval": 0
     },
     "base_uri": "https://localhost:8080/",
     "height": 359
    },
    "colab_type": "code",
    "executionInfo": {
     "elapsed": 325708,
     "status": "ok",
     "timestamp": 1533339773582,
     "user": {
      "displayName": "Rishabh Vij",
      "photoUrl": "https://lh3.googleusercontent.com/a/default-user=s128",
      "userId": "116715461577636413908"
     },
     "user_tz": -330
    },
    "id": "gZceISNLITg1",
    "outputId": "b04b6883-7880-4930-8dbd-e8aa6bba9112"
   },
   "outputs": [
    {
     "data": {
      "application/vnd.jupyter.widget-view+json": {
       "model_id": "ac92f264b24049138d6513ca680035e7",
       "version_major": 2,
       "version_minor": 0
      },
      "text/plain": [
       "HBox(children=(IntProgress(value=0, description='Epoch', max=15), HTML(value='')))"
      ]
     },
     "metadata": {
      "tags": []
     },
     "output_type": "display_data"
    },
    {
     "name": "stdout",
     "output_type": "stream",
     "text": [
      "epoch      trn_loss   val_loss   \n",
      "    0      1.627835   1.553091  \n",
      " 24%|██▍       | 227/942 [00:05<00:17, 41.61it/s, loss=1.72]    1      1.640158   1.557315  \n",
      "    2      1.457372   1.426731  \n",
      "    3      1.652228   1.576038  \n",
      "    4      1.541071   1.48558   \n",
      "    5      1.43933    1.400615  \n",
      "  1%|          | 10/942 [00:00<00:26, 35.60it/s, loss=1.45]    6      1.362172   1.363111  \n",
      "    7      1.621384   1.548219  \n",
      "    8      1.568522   1.508488  \n",
      "  0%|          | 0/942 [00:00<?, ?it/s, loss=1.58]    9      1.527331   1.47767   \n",
      "    10     1.478657   1.446148  \n",
      "    11     1.427089   1.40347   \n",
      "    12     1.370189   1.368686  \n",
      "    13     1.313825   1.339289  \n",
      "    14     1.279246   1.325342  \n",
      "\n"
     ]
    },
    {
     "data": {
      "text/plain": [
       "[array([1.32534])]"
      ]
     },
     "execution_count": 63,
     "metadata": {
      "tags": []
     },
     "output_type": "execute_result"
    }
   ],
   "source": [
    "fit(model,md,15,lo.opt,F.nll_loss,callbacks=cb)"
   ]
  },
  {
   "cell_type": "code",
   "execution_count": 64,
   "metadata": {
    "colab": {
     "autoexec": {
      "startup": false,
      "wait_interval": 0
     },
     "base_uri": "https://localhost:8080/",
     "height": 719
    },
    "colab_type": "code",
    "executionInfo": {
     "elapsed": 759659,
     "status": "ok",
     "timestamp": 1533340604484,
     "user": {
      "displayName": "Rishabh Vij",
      "photoUrl": "https://lh3.googleusercontent.com/a/default-user=s128",
      "userId": "116715461577636413908"
     },
     "user_tz": -330
    },
    "id": "WAFG6I_OI8ju",
    "outputId": "b5f5dbd7-c483-43ae-a248-8a8a7a7e2fcf"
   },
   "outputs": [
    {
     "data": {
      "application/vnd.jupyter.widget-view+json": {
       "model_id": "f85172077e4444ce894dce554c89e2ac",
       "version_major": 2,
       "version_minor": 0
      },
      "text/plain": [
       "HBox(children=(IntProgress(value=0, description='Epoch', max=35), HTML(value='')))"
      ]
     },
     "metadata": {
      "tags": []
     },
     "output_type": "display_data"
    },
    {
     "name": "stdout",
     "output_type": "stream",
     "text": [
      "epoch      trn_loss   val_loss   \n",
      "    0      1.262232   1.323915  \n",
      " 25%|██▍       | 232/942 [00:05<00:16, 43.88it/s, loss=1.24]    1      1.263847   1.322543  \n",
      "    2      1.26379    1.322015  \n",
      "    3      1.266319   1.320333  \n",
      "    4      1.258633   1.318609  \n",
      "  1%|          | 10/942 [00:00<00:20, 44.79it/s, loss=1.27]    5      1.252031   1.318211  \n",
      "    6      1.252289   1.317534  \n",
      "    7      1.251999   1.317608  \n",
      "    8      1.250888   1.315871  \n",
      "    9      1.238092   1.315004  \n",
      "    10     1.236999   1.312757  \n",
      "    11     1.22699    1.312791  \n",
      "    12     1.225057   1.312     \n",
      "    13     1.216242   1.311733  \n",
      "  1%|          | 5/942 [00:00<00:38, 24.29it/s, loss=1.23]    14     1.225105   1.311203  \n",
      "    15     1.228411   1.312599  \n",
      "    16     1.221586   1.312049  \n",
      "    17     1.220585   1.311043  \n",
      "    18     1.213573   1.311281  \n",
      "  0%|          | 0/942 [00:00<?, ?it/s]    19     1.204911   1.310851  \n",
      "    20     1.204461   1.308008  \n",
      "    21     1.190805   1.309551  \n",
      "    22     1.186141   1.309007  \n",
      "    23     1.183854   1.309242  \n",
      "    24     1.177073   1.310354  \n",
      "    25     1.178096   1.30923   \n",
      "    26     1.174861   1.309856  \n",
      "  1%|          | 6/942 [00:00<00:18, 49.56it/s, loss=1.19]    27     1.171798   1.3096    \n",
      "    28     1.168014   1.309195  \n",
      "    29     1.162619   1.309445  \n",
      "  0%|          | 0/942 [00:00<?, ?it/s, loss=1.18]    30     1.167696   1.309448  \n",
      "    31     1.173998   1.309659  \n",
      "    32     1.177744   1.312588  \n",
      "    33     1.175654   1.311291  \n",
      "    34     1.1727     1.311013  \n",
      "\n"
     ]
    },
    {
     "data": {
      "text/plain": [
       "[array([1.31101])]"
      ]
     },
     "execution_count": 64,
     "metadata": {
      "tags": []
     },
     "output_type": "execute_result"
    }
   ],
   "source": [
    "cb = [CosAnneal(lo, len(md.trn_dl), cycle_mult=2, on_cycle_end=on_end)] \n",
    "fit(model,md,35,lo.opt,F.nll_loss,callbacks=cb)"
   ]
  },
  {
   "cell_type": "code",
   "execution_count": 77,
   "metadata": {
    "colab": {
     "autoexec": {
      "startup": false,
      "wait_interval": 0
     },
     "base_uri": "https://localhost:8080/",
     "height": 55
    },
    "colab_type": "code",
    "executionInfo": {
     "elapsed": 2986,
     "status": "ok",
     "timestamp": 1533340968244,
     "user": {
      "displayName": "Rishabh Vij",
      "photoUrl": "https://lh3.googleusercontent.com/a/default-user=s128",
      "userId": "116715461577636413908"
     },
     "user_tz": -330
    },
    "id": "ywpfv84RLUAh",
    "outputId": "8e5f4014-556f-402b-b92b-719d80158a81"
   },
   "outputs": [
    {
     "name": "stdout",
     "output_type": "stream",
     "text": [
      "You saved me from man thanthe foundation: but as any hearts of such a conscience of \"the symbolism\"; to false however, who is hitherto for a result on thevalue of recognized his christian, charms and stand,\" to movement: therefore, is then sakewithfrom by the life of authoritative striving, and enjoyments of our organs, whatever sizes to which even they do a matter myself, all the sacrificed \"desirable--almostinno\n"
     ]
    }
   ],
   "source": [
    "print(get_next_n('You saved me from', 400))"
   ]
  },
  {
   "cell_type": "code",
   "execution_count": 78,
   "metadata": {
    "colab": {
     "autoexec": {
      "startup": false,
      "wait_interval": 0
     },
     "base_uri": "https://localhost:8080/",
     "height": 55
    },
    "colab_type": "code",
    "executionInfo": {
     "elapsed": 2226,
     "status": "ok",
     "timestamp": 1533341010629,
     "user": {
      "displayName": "Rishabh Vij",
      "photoUrl": "https://lh3.googleusercontent.com/a/default-user=s128",
      "userId": "116715461577636413908"
     },
     "user_tz": -330
    },
    "id": "9lvFx-B_PGj6",
    "outputId": "a76e9386-b03a-4ea8-b53b-1cc6aceddbfd"
   },
   "outputs": [
    {
     "name": "stdout",
     "output_type": "stream",
     "text": [
      "I love your actually what was have comes to our faith.; finally cost anddevelops of skfrench entennan, ganded to patry, sentiments, and know--the psychological prayers rendered andadvances to a favourableness power, and satisfaction, for one's philosophereze-vanity, will that is well that have insubjecting a god; thee never at thepresent still. saw strong, somethingprobably that the moment ofsympathy and \n"
     ]
    }
   ],
   "source": [
    "print(get_next_n('I love y', 400))"
   ]
  },
  {
   "cell_type": "markdown",
   "metadata": {
    "colab": {
     "autoexec": {
      "startup": false,
      "wait_interval": 0
     }
    },
    "colab_type": "code",
    "id": "l3pMeRksPwFy"
   },
   "source": [
    "## End."
   ]
  }
 ],
 "metadata": {
  "accelerator": "GPU",
  "colab": {
   "default_view": {},
   "name": "LSTM_pytorch.ipynb",
   "provenance": [],
   "version": "0.3.2",
   "views": {}
  },
  "kernelspec": {
   "display_name": "Python 3",
   "language": "python",
   "name": "python3"
  },
  "language_info": {
   "codemirror_mode": {
    "name": "ipython",
    "version": 3
   },
   "file_extension": ".py",
   "mimetype": "text/x-python",
   "name": "python",
   "nbconvert_exporter": "python",
   "pygments_lexer": "ipython3",
   "version": "3.6.5"
  }
 },
 "nbformat": 4,
 "nbformat_minor": 1
}
