{
  "nbformat": 4,
  "nbformat_minor": 0,
  "metadata": {
    "colab": {
      "name": "CNN_Resnet_Scratch.ipynb",
      "version": "0.3.2",
      "provenance": [],
      "include_colab_link": true
    },
    "kernelspec": {
      "name": "python3",
      "display_name": "Python 3"
    },
    "accelerator": "GPU"
  },
  "cells": [
    {
      "cell_type": "markdown",
      "metadata": {
        "id": "view-in-github",
        "colab_type": "text"
      },
      "source": [
        "[View in Colaboratory](https://colab.research.google.com/github/rishabh-vij/Fast.ai_MOOC/blob/master/Week%207/CNN_Resnet_Scratch.ipynb)"
      ]
    },
    {
      "metadata": {
        "id": "eQuc75FohzXy",
        "colab_type": "text"
      },
      "cell_type": "markdown",
      "source": [
        "## Cifar10 CNN models and resnet from scratch"
      ]
    },
    {
      "metadata": {
        "id": "XpXt9QTnavzA",
        "colab_type": "code",
        "colab": {}
      },
      "cell_type": "code",
      "source": [
        "#!pip install opencv-python\n",
        "#!apt update && apt install -y libsm6 libxext6\n",
        "!pip3 install http://download.pytorch.org/whl/cu80/torch-0.3.0.post4-cp36-cp36m-linux_x86_64.whl \n",
        "! pip3 install fastai\n",
        "#!pip3 install torchvision\n",
        "#! pip install torchtext"
      ],
      "execution_count": 0,
      "outputs": []
    },
    {
      "metadata": {
        "id": "J21m_qjeazs4",
        "colab_type": "code",
        "colab": {}
      },
      "cell_type": "code",
      "source": [
        "#! wget http://pjreddie.com/media/files/cifar.tgz\n",
        "%matplotlib inline\n",
        "%reload_ext autoreload\n",
        "%autoreload 2"
      ],
      "execution_count": 0,
      "outputs": []
    },
    {
      "metadata": {
        "id": "uv7YcxfUbo2C",
        "colab_type": "code",
        "colab": {}
      },
      "cell_type": "code",
      "source": [
        "!tar -xvzf ./cifar.tgz\n"
      ],
      "execution_count": 0,
      "outputs": []
    },
    {
      "metadata": {
        "id": "UL6dg4xNcfih",
        "colab_type": "code",
        "colab": {}
      },
      "cell_type": "code",
      "source": [
        "classes = ('plane', 'car', 'bird', 'cat', 'deer', 'dog', 'frog', 'horse', 'ship', 'truck')\n"
      ],
      "execution_count": 0,
      "outputs": []
    },
    {
      "metadata": {
        "id": "1_BsoBFpc6RI",
        "colab_type": "code",
        "colab": {
          "base_uri": "https://localhost:8080/",
          "height": 35
        },
        "outputId": "496aa365-e42a-47dd-ec03-8f7b0a2ef423"
      },
      "cell_type": "code",
      "source": [
        "ls ./cifar"
      ],
      "execution_count": 6,
      "outputs": [
        {
          "output_type": "stream",
          "text": [
            "labels.txt  \u001b[0m\u001b[01;34mmodels\u001b[0m/  \u001b[01;34mtest\u001b[0m/  \u001b[01;34mtmp\u001b[0m/  \u001b[01;34mtrain\u001b[0m/\r\n"
          ],
          "name": "stdout"
        }
      ]
    },
    {
      "metadata": {
        "id": "ULPYy6qFcfTo",
        "colab_type": "text"
      },
      "cell_type": "markdown",
      "source": [
        ""
      ]
    },
    {
      "metadata": {
        "id": "F6F0QUIrb4b6",
        "colab_type": "code",
        "colab": {}
      },
      "cell_type": "code",
      "source": [
        "import os\n",
        "import glob\n",
        "import shutil\n",
        "classes = ('airplane', 'automobile', 'bird', 'cat', 'deer', 'dog', 'frog', 'horse', 'ship', 'truck')\n",
        "cwd = os.getcwd()\n",
        "train_path = cwd + '/cifar/train/'\n",
        "# go through classes and make a directory for each one\n",
        "for class_now in classes:\n",
        "    path_now = train_path + class_now\n",
        "    if not os.path.exists(path_now):\n",
        "        os.makedirs(path_now)\n",
        "# go through classes and match them with file names\n",
        "# file names are e.g. '123_frog.png' so glob picks out all the e.g. frog files\n",
        "for class_now in classes:\n",
        "    identifier = train_path + '*' + class_now + '.png'\n",
        "    class_files = glob.glob(identifier)\n",
        "    file_destination = train_path + class_now\n",
        "    # move all frog files to proper class directory\n",
        "    for file_to_move in class_files:\n",
        "        shutil.move(file_to_move, file_destination)\n",
        "\n",
        "# do all the same but now for the test data\n",
        "test_path = cwd + '/cifar/test/'\n",
        "for class_now in classes:\n",
        "    path_now = test_path + class_now\n",
        "    if not os.path.exists(path_now):\n",
        "        os.makedirs(path_now)\n",
        "for class_now in classes:\n",
        "    identifier = test_path + '*' + class_now + '.png'\n",
        "    class_files = glob.glob(identifier)\n",
        "    file_destination = test_path + class_now\n",
        "    for file_to_move in class_files:\n",
        "        shutil.move(file_to_move, file_destination)"
      ],
      "execution_count": 0,
      "outputs": []
    },
    {
      "metadata": {
        "id": "dVvpVwsTeNgH",
        "colab_type": "code",
        "colab": {
          "base_uri": "https://localhost:8080/",
          "height": 35
        },
        "outputId": "28f02f66-13a1-418a-9225-00e85add2d34"
      },
      "cell_type": "code",
      "source": [
        "ls cifar/test"
      ],
      "execution_count": 34,
      "outputs": [
        {
          "output_type": "stream",
          "text": [
            "\u001b[0m\u001b[01;34mairplane\u001b[0m/  \u001b[01;34mautomobile\u001b[0m/  \u001b[01;34mbird\u001b[0m/  \u001b[01;34mcat\u001b[0m/  \u001b[01;34mdeer\u001b[0m/  \u001b[01;34mdog\u001b[0m/  \u001b[01;34mfrog\u001b[0m/  \u001b[01;34mhorse\u001b[0m/  \u001b[01;34mship\u001b[0m/  \u001b[01;34mtruck\u001b[0m/\r\n"
          ],
          "name": "stdout"
        }
      ]
    },
    {
      "metadata": {
        "id": "PnOEc0Hecgyt",
        "colab_type": "code",
        "colab": {
          "base_uri": "https://localhost:8080/",
          "height": 53
        },
        "outputId": "f5d82a8d-5f44-4e97-b97d-4e4c04cf9768"
      },
      "cell_type": "code",
      "source": [
        "from fastai.conv_learner import *\n",
        "PATH = \"cifar/\"\n",
        "os.makedirs(PATH,exist_ok=True)\n",
        "\n",
        "!ls {PATH}\n",
        "\n",
        "if not os.path.exists(f\"{PATH}/train/bird\"):\n",
        "   raise Exception(\"expecting class subdirs under 'train/' and 'test/'\")\n",
        "!ls {PATH}/train"
      ],
      "execution_count": 7,
      "outputs": [
        {
          "output_type": "stream",
          "text": [
            "labels.txt  models  test  tmp  train\n",
            "airplane  automobile  bird  cat  deer  dog  frog  horse  ship  truck\n"
          ],
          "name": "stdout"
        }
      ]
    },
    {
      "metadata": {
        "id": "LF0jYRU3dTX_",
        "colab_type": "code",
        "colab": {}
      },
      "cell_type": "code",
      "source": [
        "stats = (np.array([ 0.4914 ,  0.48216,  0.44653]), np.array([ 0.24703,  0.24349,  0.26159]))\n"
      ],
      "execution_count": 0,
      "outputs": []
    },
    {
      "metadata": {
        "id": "8tf48dY1einr",
        "colab_type": "code",
        "colab": {}
      },
      "cell_type": "code",
      "source": [
        "def get_data(sz,bs):\n",
        "    tfms = tfms_from_stats(stats, sz, aug_tfms=[RandomFlip()], pad=sz//8)\n",
        "    return ImageClassifierData.from_paths(PATH, val_name='test', tfms=tfms, bs=bs)"
      ],
      "execution_count": 0,
      "outputs": []
    },
    {
      "metadata": {
        "id": "DvTsYJohg_ld",
        "colab_type": "code",
        "colab": {}
      },
      "cell_type": "code",
      "source": [
        "bs=256"
      ],
      "execution_count": 0,
      "outputs": []
    },
    {
      "metadata": {
        "id": "7n6aYlwDhAsI",
        "colab_type": "code",
        "colab": {
          "base_uri": "https://localhost:8080/",
          "height": 266
        },
        "outputId": "e80cc0c4-f0f0-4388-f784-84920f6c0467"
      },
      "cell_type": "code",
      "source": [
        "# having a look at the data\n",
        "data = get_data(32,bs)\n",
        "x,y=next(iter(data.trn_dl))\n",
        "plt.imshow(data.trn_ds.denorm(x)[5]);"
      ],
      "execution_count": 22,
      "outputs": [
        {
          "output_type": "display_data",
          "data": {
            "image/png": "[encoded data removed]",
            "text/plain": [
              "<matplotlib.figure.Figure at 0x7f5c8eaeeba8>"
            ]
          },
          "metadata": {
            "tags": []
          }
        }
      ]
    },
    {
      "metadata": {
        "id": "IDDKelexhVB9",
        "colab_type": "code",
        "colab": {
          "base_uri": "https://localhost:8080/",
          "height": 266
        },
        "outputId": "be070d44-0bbc-4ae0-e8b2-de652e4deff4"
      },
      "cell_type": "code",
      "source": [
        "plt.imshow(data.trn_ds.denorm(x)[3]);"
      ],
      "execution_count": 21,
      "outputs": [
        {
          "output_type": "display_data",
          "data": {
            "image/png": "[encoded data removed]",
            "text/plain": [
              "<matplotlib.figure.Figure at 0x7f5c8fbb51d0>"
            ]
          },
          "metadata": {
            "tags": []
          }
        }
      ]
    },
    {
      "metadata": {
        "id": "Xt1xwx7XhsAF",
        "colab_type": "text"
      },
      "cell_type": "markdown",
      "source": [
        "**The data looks pretty difficult to interpret**"
      ]
    },
    {
      "metadata": {
        "id": "YQoWewYJsHBo",
        "colab_type": "text"
      },
      "cell_type": "markdown",
      "source": [
        "## Fully connected CNN from scratch"
      ]
    },
    {
      "metadata": {
        "id": "96LvP1nAhcWg",
        "colab_type": "code",
        "colab": {}
      },
      "cell_type": "code",
      "source": [
        "class cnnNet(nn.Module):\n",
        "  def __init__(self,layers,c):\n",
        "    super().__init__()\n",
        "    self.layers=nn.ModuleList([nn.Conv2d(layers[i],layers[i+1],kernel_size=3, stride=2,padding=1)for i in range(len(layers)-1)])\n",
        "    self.pool=nn.AdaptiveMaxPool2d(1)\n",
        "    self.out=nn.Linear(layers[-1],c)\n",
        " \n",
        "  def forward(self,x):\n",
        "    for l in self.layers: x=F.relu(l(x))\n",
        "    x=self.pool(x)\n",
        "    x=x.view(x.size(0),-1)\n",
        "    return F.log_softmax(self.out(x),dim=-1)"
      ],
      "execution_count": 0,
      "outputs": []
    },
    {
      "metadata": {
        "id": "n8sowkKGty3_",
        "colab_type": "code",
        "colab": {}
      },
      "cell_type": "code",
      "source": [
        "learn= ConvLearner.from_model_data(cnnNet([3,20,40,80],10),data)"
      ],
      "execution_count": 0,
      "outputs": []
    },
    {
      "metadata": {
        "id": "5tzP1pkJuk6i",
        "colab_type": "code",
        "colab": {
          "base_uri": "https://localhost:8080/",
          "height": 611
        },
        "outputId": "7518a203-b270-4ac7-c2b5-e47f17439c32"
      },
      "cell_type": "code",
      "source": [
        "learn,learn.summary()"
      ],
      "execution_count": 25,
      "outputs": [
        {
          "output_type": "execute_result",
          "data": {
            "text/plain": [
              "(cnnNet(\n",
              "   (layers): ModuleList(\n",
              "     (0): Conv2d (3, 20, kernel_size=(3, 3), stride=(2, 2), padding=(1, 1))\n",
              "     (1): Conv2d (20, 40, kernel_size=(3, 3), stride=(2, 2), padding=(1, 1))\n",
              "     (2): Conv2d (40, 80, kernel_size=(3, 3), stride=(2, 2), padding=(1, 1))\n",
              "   )\n",
              "   (pool): AdaptiveMaxPool2d(output_size=1)\n",
              "   (out): Linear(in_features=80, out_features=10)\n",
              " ),\n",
              " OrderedDict([('Conv2d-1',\n",
              "               OrderedDict([('input_shape', [-1, 3, 32, 32]),\n",
              "                            ('output_shape', [-1, 20, 16, 16]),\n",
              "                            ('trainable', True),\n",
              "                            ('nb_params', 560)])),\n",
              "              ('Conv2d-2',\n",
              "               OrderedDict([('input_shape', [-1, 20, 16, 16]),\n",
              "                            ('output_shape', [-1, 40, 8, 8]),\n",
              "                            ('trainable', True),\n",
              "                            ('nb_params', 7240)])),\n",
              "              ('Conv2d-3',\n",
              "               OrderedDict([('input_shape', [-1, 40, 8, 8]),\n",
              "                            ('output_shape', [-1, 80, 4, 4]),\n",
              "                            ('trainable', True),\n",
              "                            ('nb_params', 28880)])),\n",
              "              ('AdaptiveMaxPool2d-4',\n",
              "               OrderedDict([('input_shape', [-1, 80, 4, 4]),\n",
              "                            ('output_shape', [-1, 80, 1, 1]),\n",
              "                            ('nb_params', 0)])),\n",
              "              ('Linear-5',\n",
              "               OrderedDict([('input_shape', [-1, 80]),\n",
              "                            ('output_shape', [-1, 10]),\n",
              "                            ('trainable', True),\n",
              "                            ('nb_params', 810)]))]))"
            ]
          },
          "metadata": {
            "tags": []
          },
          "execution_count": 25
        }
      ]
    },
    {
      "metadata": {
        "id": "YKx5Hndpupui",
        "colab_type": "code",
        "colab": {
          "base_uri": "https://localhost:8080/",
          "height": 53
        },
        "outputId": "a6249c8c-3515-43d5-a069-8ac9a18f9cd2"
      },
      "cell_type": "code",
      "source": [
        "learn.lr_find()"
      ],
      "execution_count": 26,
      "outputs": [
        {
          "output_type": "display_data",
          "data": {
            "application/vnd.jupyter.widget-view+json": {
              "model_id": "e70c604f572c4e5c9364a6a2d60e9ed5",
              "version_minor": 0,
              "version_major": 2
            },
            "text/plain": [
              "HBox(children=(IntProgress(value=0, description='Epoch', max=1), HTML(value='')))"
            ]
          },
          "metadata": {
            "tags": []
          }
        },
        {
          "output_type": "stream",
          "text": [
            " 81%|████████  | 158/196 [00:21<00:05,  7.28it/s, loss=13.8]"
          ],
          "name": "stdout"
        }
      ]
    },
    {
      "metadata": {
        "id": "ToaFIfxRvfxV",
        "colab_type": "code",
        "colab": {
          "base_uri": "https://localhost:8080/",
          "height": 283
        },
        "outputId": "f0a25cd9-26e3-443c-b92a-a666ea9801b2"
      },
      "cell_type": "code",
      "source": [
        "learn.sched.plot()"
      ],
      "execution_count": 27,
      "outputs": [
        {
          "output_type": "display_data",
          "data": {
            "image/png": "[encoded data removed]",
            "text/plain": [
              "<matplotlib.figure.Figure at 0x7f5c8fcb1208>"
            ]
          },
          "metadata": {
            "tags": []
          }
        }
      ]
    },
    {
      "metadata": {
        "id": "nvA-CNDtv3qa",
        "colab_type": "code",
        "colab": {
          "base_uri": "https://localhost:8080/",
          "height": 53
        },
        "outputId": "1343dc23-9089-4e4c-a152-d08f171b0046"
      },
      "cell_type": "code",
      "source": [
        "learn.lr_find(end_lr=100) #It is still not able to find the lr as end_lr is set to 10"
      ],
      "execution_count": 28,
      "outputs": [
        {
          "output_type": "display_data",
          "data": {
            "application/vnd.jupyter.widget-view+json": {
              "model_id": "6c5f7c0491de437baab44e3aaa12e38e",
              "version_minor": 0,
              "version_major": 2
            },
            "text/plain": [
              "HBox(children=(IntProgress(value=0, description='Epoch', max=1), HTML(value='')))"
            ]
          },
          "metadata": {
            "tags": []
          }
        },
        {
          "output_type": "stream",
          "text": [
            " 71%|███████▏  | 140/196 [00:19<00:07,  7.13it/s, loss=57.4]"
          ],
          "name": "stdout"
        }
      ]
    },
    {
      "metadata": {
        "id": "t3X0cTSnwF2_",
        "colab_type": "code",
        "colab": {
          "base_uri": "https://localhost:8080/",
          "height": 283
        },
        "outputId": "a5bdf04d-1f5a-4cc8-bf5c-67703b852eb4"
      },
      "cell_type": "code",
      "source": [
        "learn.sched.plot()"
      ],
      "execution_count": 29,
      "outputs": [
        {
          "output_type": "display_data",
          "data": {
            "image/png": "[encoded data removed]",
            "text/plain": [
              "<matplotlib.figure.Figure at 0x7f5c3ce185c0>"
            ]
          },
          "metadata": {
            "tags": []
          }
        }
      ]
    },
    {
      "metadata": {
        "id": "tyOrBKpnwJod",
        "colab_type": "code",
        "colab": {
          "base_uri": "https://localhost:8080/",
          "height": 107
        },
        "outputId": "8d333467-eab5-483d-b5ad-6441f81734f3"
      },
      "cell_type": "code",
      "source": [
        "learn.fit(1e-1,2)"
      ],
      "execution_count": 30,
      "outputs": [
        {
          "output_type": "display_data",
          "data": {
            "application/vnd.jupyter.widget-view+json": {
              "model_id": "a2b9703bf1144fd7bb387ac966a181a3",
              "version_minor": 0,
              "version_major": 2
            },
            "text/plain": [
              "HBox(children=(IntProgress(value=0, description='Epoch', max=2), HTML(value='')))"
            ]
          },
          "metadata": {
            "tags": []
          }
        },
        {
          "output_type": "stream",
          "text": [
            "epoch      trn_loss   val_loss   accuracy   \n",
            "    0      1.708553   1.628969   0.4062    \n",
            "    1      1.519487   1.489863   0.4611    \n"
          ],
          "name": "stdout"
        },
        {
          "output_type": "execute_result",
          "data": {
            "text/plain": [
              "[array([1.48986]), 0.4611]"
            ]
          },
          "metadata": {
            "tags": []
          },
          "execution_count": 30
        }
      ]
    },
    {
      "metadata": {
        "id": "WV-xShL7xgIK",
        "colab_type": "code",
        "colab": {
          "base_uri": "https://localhost:8080/",
          "height": 197
        },
        "outputId": "ffeff62d-44b5-4a82-990e-77afed08c150"
      },
      "cell_type": "code",
      "source": [
        "learn.fit(1e-1, 3, cycle_len=1,cycle_mult=2)\n"
      ],
      "execution_count": 31,
      "outputs": [
        {
          "output_type": "display_data",
          "data": {
            "application/vnd.jupyter.widget-view+json": {
              "model_id": "49dc3af33e80425d9581f2b4cdf79654",
              "version_minor": 0,
              "version_major": 2
            },
            "text/plain": [
              "HBox(children=(IntProgress(value=0, description='Epoch', max=7), HTML(value='')))"
            ]
          },
          "metadata": {
            "tags": []
          }
        },
        {
          "output_type": "stream",
          "text": [
            "epoch      trn_loss   val_loss   accuracy   \n",
            "    0      1.39069    1.299726   0.5348    \n",
            "    1      1.350521   1.270105   0.5436    \n",
            " 77%|███████▋  | 151/196 [00:20<00:06,  7.30it/s, loss=1.24]"
          ],
          "name": "stdout"
        },
        {
          "output_type": "stream",
          "text": [
            "    2      1.222021   1.174412   0.5811    \n",
            "    3      1.33456    1.358752   0.5105    \n",
            "    4      1.253822   1.199736   0.5668    \n",
            " 49%|████▉     | 97/196 [00:13<00:14,  6.97it/s, loss=1.19]"
          ],
          "name": "stdout"
        },
        {
          "output_type": "stream",
          "text": [
            "    5      1.147252   1.126584   0.6045    \n",
            "    6      1.075746   1.053092   0.6289    \n"
          ],
          "name": "stdout"
        },
        {
          "output_type": "execute_result",
          "data": {
            "text/plain": [
              "[array([1.05309]), 0.6289]"
            ]
          },
          "metadata": {
            "tags": []
          },
          "execution_count": 31
        }
      ]
    },
    {
      "metadata": {
        "id": "Kc47b59y6-Hc",
        "colab_type": "text"
      },
      "cell_type": "markdown",
      "source": [
        "## BatchNorm from scratch\n",
        "**We use batchnorm to normalize each layer**"
      ]
    },
    {
      "metadata": {
        "id": "Ea7_FMYQynnb",
        "colab_type": "code",
        "colab": {}
      },
      "cell_type": "code",
      "source": [
        "class BnLayer(nn.Module):\n",
        "    def __init__(self, ni, nf, stride=2, kernel_size=3):\n",
        "        super().__init__()\n",
        "        self.conv = nn.Conv2d(ni, nf, kernel_size=kernel_size, stride=stride,\n",
        "                              bias=False, padding=1)\n",
        "        self.a = nn.Parameter(torch.zeros(nf,1,1))\n",
        "        self.m = nn.Parameter(torch.ones(nf,1,1))\n",
        "        \n",
        "    def forward(self, x):\n",
        "        x = F.relu(self.conv(x))\n",
        "        x_chan = x.transpose(0,1).contiguous().view(x.size(1), -1)\n",
        "        if self.training:\n",
        "            self.means = x_chan.mean(1)[:,None,None]\n",
        "            self.stds  = x_chan.std (1)[:,None,None]\n",
        "        return (x-self.means) / self.stds *self.m + self.a"
      ],
      "execution_count": 0,
      "outputs": []
    },
    {
      "metadata": {
        "id": "KXzkFErh7ENa",
        "colab_type": "code",
        "colab": {}
      },
      "cell_type": "code",
      "source": [
        "class ConvBnNet(nn.Module):\n",
        "    def __init__(self, layers, c):\n",
        "        super().__init__()\n",
        "        self.conv1 = nn.Conv2d(3, 10, kernel_size=5, stride=1, padding=2)\n",
        "        self.layers = nn.ModuleList([BnLayer(layers[i], layers[i + 1])\n",
        "            for i in range(len(layers) - 1)])\n",
        "        self.out = nn.Linear(layers[-1], c)\n",
        "        \n",
        "    def forward(self, x):\n",
        "        x = self.conv1(x)\n",
        "        for l in self.layers: x = l(x)\n",
        "        x = F.adaptive_max_pool2d(x, 1)\n",
        "        x = x.view(x.size(0), -1)\n",
        "        return F.log_softmax(self.out(x), dim=-1)"
      ],
      "execution_count": 0,
      "outputs": []
    },
    {
      "metadata": {
        "id": "Ux8L4wBD7GhX",
        "colab_type": "code",
        "colab": {}
      },
      "cell_type": "code",
      "source": [
        "learn = ConvLearner.from_model_data(ConvBnNet([10, 20, 40, 80, 160], 10), data)\n"
      ],
      "execution_count": 0,
      "outputs": []
    },
    {
      "metadata": {
        "id": "CG0iYbbT7lKz",
        "colab_type": "code",
        "colab": {
          "base_uri": "https://localhost:8080/",
          "height": 107
        },
        "outputId": "2478b209-7311-418e-9b66-1cc56c861c4a"
      },
      "cell_type": "code",
      "source": [
        "learn.fit(3e-2, 2)\n"
      ],
      "execution_count": 35,
      "outputs": [
        {
          "output_type": "display_data",
          "data": {
            "application/vnd.jupyter.widget-view+json": {
              "model_id": "cf4e2bc49ead47da92c6f72deccdc5b6",
              "version_minor": 0,
              "version_major": 2
            },
            "text/plain": [
              "HBox(children=(IntProgress(value=0, description='Epoch', max=2), HTML(value='')))"
            ]
          },
          "metadata": {
            "tags": []
          }
        },
        {
          "output_type": "stream",
          "text": [
            "epoch      trn_loss   val_loss   accuracy   \n",
            "    0      1.513634   1.358708   0.5072    \n",
            "    1      1.272863   1.169354   0.5859    \n"
          ],
          "name": "stdout"
        },
        {
          "output_type": "execute_result",
          "data": {
            "text/plain": [
              "[array([1.16935]), 0.5859]"
            ]
          },
          "metadata": {
            "tags": []
          },
          "execution_count": 35
        }
      ]
    },
    {
      "metadata": {
        "id": "XwZphMhy7qLz",
        "colab_type": "code",
        "colab": {
          "base_uri": "https://localhost:8080/",
          "height": 197
        },
        "outputId": "27246828-c12d-4dd8-b08a-10a04fbf63cd"
      },
      "cell_type": "code",
      "source": [
        "learn.fit(3e-2, 3,cycle_len=1,cycle_mult=2)\n"
      ],
      "execution_count": 36,
      "outputs": [
        {
          "output_type": "display_data",
          "data": {
            "application/vnd.jupyter.widget-view+json": {
              "model_id": "0ed114a952624e21be07e8a659a6ae98",
              "version_minor": 0,
              "version_major": 2
            },
            "text/plain": [
              "HBox(children=(IntProgress(value=0, description='Epoch', max=7), HTML(value='')))"
            ]
          },
          "metadata": {
            "tags": []
          }
        },
        {
          "output_type": "stream",
          "text": [
            "epoch      trn_loss   val_loss   accuracy   \n",
            "    0      1.07721    1.009225   0.6377    \n",
            "    1      1.055924   0.945078   0.6647    \n",
            " 40%|███▉      | 78/196 [00:12<00:18,  6.50it/s, loss=0.992]"
          ],
          "name": "stdout"
        },
        {
          "output_type": "stream",
          "text": [
            "    2      0.930677   0.903264   0.6823    \n",
            "    3      0.992281   0.943119   0.6672    \n",
            " 96%|█████████▋| 189/196 [00:28<00:01,  6.53it/s, loss=0.895]"
          ],
          "name": "stdout"
        },
        {
          "output_type": "stream",
          "text": [
            "    4      0.891233   0.870568   0.6929    \n",
            "    5      0.818027   0.776439   0.7291    \n",
            "    6      0.776424   0.78485    0.7321    \n"
          ],
          "name": "stdout"
        },
        {
          "output_type": "execute_result",
          "data": {
            "text/plain": [
              "[array([0.78485]), 0.7321]"
            ]
          },
          "metadata": {
            "tags": []
          },
          "execution_count": 36
        }
      ]
    },
    {
      "metadata": {
        "id": "8JFkQOvs_Oc-",
        "colab_type": "text"
      },
      "cell_type": "markdown",
      "source": [
        "## Resnet from scratch"
      ]
    },
    {
      "metadata": {
        "id": "lvVODK748hkh",
        "colab_type": "code",
        "colab": {}
      },
      "cell_type": "code",
      "source": [
        "class ResnetLayer(BnLayer):\n",
        "    def forward(self, x): return x + super().forward(x)"
      ],
      "execution_count": 0,
      "outputs": []
    },
    {
      "metadata": {
        "id": "j2MIRzvF_Z4Z",
        "colab_type": "code",
        "colab": {}
      },
      "cell_type": "code",
      "source": [
        "class Resnet(nn.Module):\n",
        "    def __init__(self, layers, c):\n",
        "        super().__init__()\n",
        "        self.conv1 = nn.Conv2d(3, 10, kernel_size=5, stride=1, padding=2)\n",
        "        self.layers = nn.ModuleList([BnLayer(layers[i], layers[i+1])\n",
        "            for i in range(len(layers) - 1)])\n",
        "        self.layers2 = nn.ModuleList([ResnetLayer(layers[i+1], layers[i + 1], 1)\n",
        "            for i in range(len(layers) - 1)])\n",
        "        self.layers3 = nn.ModuleList([ResnetLayer(layers[i+1], layers[i + 1], 1)\n",
        "            for i in range(len(layers) - 1)])\n",
        "        self.out = nn.Linear(layers[-1], c)\n",
        "        \n",
        "    def forward(self, x):\n",
        "        x = self.conv1(x)\n",
        "        for l,l2,l3 in zip(self.layers, self.layers2, self.layers3):\n",
        "            x = l3(l2(l(x)))\n",
        "        x = F.adaptive_max_pool2d(x, 1)\n",
        "        x = x.view(x.size(0), -1)\n",
        "        return F.log_softmax(self.out(x), dim=-1)"
      ],
      "execution_count": 0,
      "outputs": []
    },
    {
      "metadata": {
        "id": "oYWYZ0wN_fic",
        "colab_type": "code",
        "colab": {}
      },
      "cell_type": "code",
      "source": [
        "learn = ConvLearner.from_model_data(Resnet([10, 20, 40, 80, 160], 10), data)\n"
      ],
      "execution_count": 0,
      "outputs": []
    },
    {
      "metadata": {
        "id": "JaCnbGo-_hXM",
        "colab_type": "code",
        "colab": {
          "base_uri": "https://localhost:8080/",
          "height": 107
        },
        "outputId": "1f8398e3-13ba-452d-d7dc-99d8fb244e8e"
      },
      "cell_type": "code",
      "source": [
        "wd=1e-5\n",
        "learn.fit(1e-2, 2, wds=wd)"
      ],
      "execution_count": 40,
      "outputs": [
        {
          "output_type": "display_data",
          "data": {
            "application/vnd.jupyter.widget-view+json": {
              "model_id": "1c3c033fea9f4431b8d067ced4479579",
              "version_minor": 0,
              "version_major": 2
            },
            "text/plain": [
              "HBox(children=(IntProgress(value=0, description='Epoch', max=2), HTML(value='')))"
            ]
          },
          "metadata": {
            "tags": []
          }
        },
        {
          "output_type": "stream",
          "text": [
            "epoch      trn_loss   val_loss   accuracy   \n",
            "    0      1.554694   1.416668   0.4859    \n",
            "    1      1.341609   1.310673   0.5296    \n"
          ],
          "name": "stdout"
        },
        {
          "output_type": "execute_result",
          "data": {
            "text/plain": [
              "[array([1.31067]), 0.5296]"
            ]
          },
          "metadata": {
            "tags": []
          },
          "execution_count": 40
        }
      ]
    },
    {
      "metadata": {
        "id": "al66ye4n_m5Z",
        "colab_type": "code",
        "colab": {
          "base_uri": "https://localhost:8080/",
          "height": 197
        },
        "outputId": "4d764d98-d6f0-4c0b-8161-edd912a051df"
      },
      "cell_type": "code",
      "source": [
        "learn.fit(1e-2, 3, cycle_len=1,cycle_mult=2, wds=wd)"
      ],
      "execution_count": 43,
      "outputs": [
        {
          "output_type": "display_data",
          "data": {
            "application/vnd.jupyter.widget-view+json": {
              "model_id": "2efd1a9680b44db2b0a7f067b209789b",
              "version_minor": 0,
              "version_major": 2
            },
            "text/plain": [
              "HBox(children=(IntProgress(value=0, description='Epoch', max=7), HTML(value='')))"
            ]
          },
          "metadata": {
            "tags": []
          }
        },
        {
          "output_type": "stream",
          "text": [
            "epoch      trn_loss   val_loss   accuracy   \n",
            "    0      1.133091   1.065738   0.6209    \n",
            "    1      1.090187   1.006463   0.6461    \n",
            " 24%|██▍       | 47/196 [00:13<00:41,  3.59it/s, loss=1.04]"
          ],
          "name": "stdout"
        },
        {
          "output_type": "stream",
          "text": [
            "    2      0.968318   0.964641   0.6562    \n",
            "    3      0.999234   0.943355   0.6647    \n",
            " 71%|███████   | 139/196 [00:30<00:12,  4.49it/s, loss=0.922]"
          ],
          "name": "stdout"
        },
        {
          "output_type": "stream",
          "text": [
            "    4      0.910268   0.878829   0.6952    \n",
            "    5      0.81344    0.812274   0.711     \n",
            " 89%|████████▉ | 174/196 [00:38<00:04,  4.56it/s, loss=0.766]"
          ],
          "name": "stdout"
        },
        {
          "output_type": "stream",
          "text": [
            "    6      0.779276   0.791134   0.7224    \n"
          ],
          "name": "stdout"
        },
        {
          "output_type": "execute_result",
          "data": {
            "text/plain": [
              "[array([0.79113]), 0.7224]"
            ]
          },
          "metadata": {
            "tags": []
          },
          "execution_count": 43
        }
      ]
    },
    {
      "metadata": {
        "id": "HyQtW4-tC9HU",
        "colab_type": "text"
      },
      "cell_type": "markdown",
      "source": [
        "**Simple BatchNorm and resnet are giving around equal accuracy, infact BatchNorm seems to be working slightly better**"
      ]
    },
    {
      "metadata": {
        "id": "IBUESIGQADRP",
        "colab_type": "code",
        "colab": {
          "base_uri": "https://localhost:8080/",
          "height": 35
        },
        "outputId": "4fab46ef-d935-42b7-ab94-3a57182fbe9a"
      },
      "cell_type": "code",
      "source": [
        "log_preds,y = learn.TTA()\n",
        "preds = np.mean(np.exp(log_preds),0)\n",
        "metrics.log_loss(y,preds), accuracy_np(preds,y)\n"
      ],
      "execution_count": 44,
      "outputs": [
        {
          "output_type": "stream",
          "text": [
            ""
          ],
          "name": "stdout"
        },
        {
          "output_type": "execute_result",
          "data": {
            "text/plain": [
              "(0.7468485474222892, 0.7417)"
            ]
          },
          "metadata": {
            "tags": []
          },
          "execution_count": 44
        }
      ]
    },
    {
      "metadata": {
        "id": "OdKp2LfjDZW0",
        "colab_type": "text"
      },
      "cell_type": "markdown",
      "source": [
        "**So we get around 75% accuracy with just around 9 epochs. There is definately scope for improvement by just training a little longer**\n",
        "\n",
        "##End."
      ]
    }
  ]
}