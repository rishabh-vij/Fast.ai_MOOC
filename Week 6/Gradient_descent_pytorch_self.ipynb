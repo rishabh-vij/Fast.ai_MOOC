{
  "nbformat": 4,
  "nbformat_minor": 0,
  "metadata": {
    "colab": {
      "name": "Untitled3.ipynb",
      "version": "0.3.2",
      "provenance": [],
      "collapsed_sections": [],
      "include_colab_link": true
    },
    "kernelspec": {
      "name": "python3",
      "display_name": "Python 3"
    },
    "accelerator": "GPU"
  },
  "cells": [
    {
      "cell_type": "markdown",
      "metadata": {
        "id": "view-in-github",
        "colab_type": "text"
      },
      "source": [
        "[View in Colaboratory](https://colab.research.google.com/github/rishabh-vij/Fast.ai_MOOC/blob/master/Week%206/Gradient_descent_pytorch_self.ipynb)"
      ]
    },
    {
      "metadata": {
        "id": "GK8ExHLwffaD",
        "colab_type": "code",
        "colab": {}
      },
      "cell_type": "code",
      "source": [
        "#!pip install opencv-python\n",
        "#!apt update && apt install -y libsm6 libxext6\n",
        "!pip3 install http://download.pytorch.org/whl/cu80/torch-0.3.0.post4-cp36-cp36m-linux_x86_64.whl \n",
        "! pip3 install fastai\n",
        "#!pip3 install torchvision\n",
        "#! pip install torchtext"
      ],
      "execution_count": 0,
      "outputs": []
    },
    {
      "metadata": {
        "id": "M09yUJjjhAua",
        "colab_type": "text"
      },
      "cell_type": "markdown",
      "source": [
        "## Gradient descent and Linear regresson from scratch with pytorch\n",
        "**The goal of linear regression is to fit a line to a set of points.**"
      ]
    },
    {
      "metadata": {
        "id": "Nll42fqigF0J",
        "colab_type": "code",
        "colab": {}
      },
      "cell_type": "code",
      "source": [
        "%matplotlib inline\n",
        "from fastai.learner import *\n"
      ],
      "execution_count": 0,
      "outputs": []
    },
    {
      "metadata": {
        "id": "SYs8abp8hJ76",
        "colab_type": "code",
        "colab": {
          "base_uri": "https://localhost:8080/",
          "height": 279
        },
        "outputId": "670075ad-335e-414a-f58c-748fa10dce0a"
      },
      "cell_type": "code",
      "source": [
        "# Here we generate some fake data\n",
        "def lin(a,b,x): return a*x+b\n",
        "\n",
        "def gen_fake_data(n, a, b):\n",
        "    x = s = np.random.uniform(0,1,n) \n",
        "    y = lin(a,b,x) + 0.1 * np.random.normal(0,3,n)\n",
        "    return x, y\n",
        "\n",
        "x, y = gen_fake_data(50, 3., 8.)\n",
        "plt.scatter(x,y, s=8); plt.xlabel(\"x\"); plt.ylabel(\"y\");"
      ],
      "execution_count": 3,
      "outputs": [
        {
          "output_type": "display_data",
          "data": {
            "image/png": "[encoded data removed]",
            "text/plain": [
              "<matplotlib.figure.Figure at 0x7f0e9d29ba58>"
            ]
          },
          "metadata": {
            "tags": []
          }
        }
      ]
    },
    {
      "metadata": {
        "id": "TLgJjKGMiKGf",
        "colab_type": "text"
      },
      "cell_type": "markdown",
      "source": [
        " **We want to find parameters (weights) $a$ and $b$ such that we minimize the error between the points and the line $a\\cdot x + b$. Note that here $a$ and $b$ are unknown. For a regression problem the most common error function or loss function is the mean squared error.**\n",
        " \n",
        " \n",
        "**Suppose we believe $a = 10$ and $b = 5$ then we can compute y_hat which is our prediction and then compute our error.**\n"
      ]
    },
    {
      "metadata": {
        "id": "8B7ju--jhb60",
        "colab_type": "code",
        "colab": {
          "base_uri": "https://localhost:8080/",
          "height": 34
        },
        "outputId": "c19fa6fd-63ec-4408-cbfb-b2149b95ad05"
      },
      "cell_type": "code",
      "source": [
        "def mse(y_hat, y): return ((y_hat - y) ** 2).mean()\n",
        "\n",
        "y_hat = lin(10,5,x)\n",
        "mse(y_hat, y)"
      ],
      "execution_count": 7,
      "outputs": [
        {
          "output_type": "execute_result",
          "data": {
            "text/plain": [
              "3.6313905096639107"
            ]
          },
          "metadata": {
            "tags": []
          },
          "execution_count": 7
        }
      ]
    },
    {
      "metadata": {
        "id": "fEP3GhMdh2Wn",
        "colab_type": "code",
        "colab": {
          "base_uri": "https://localhost:8080/",
          "height": 34
        },
        "outputId": "c2260abf-89b2-44c5-9c01-e0a0973ebf1f"
      },
      "cell_type": "code",
      "source": [
        "def mse_loss(a, b, x, y): return mse(lin(a,b,x), y) # This step is the same as above block\n",
        "mse_loss(10,5,x,y)\n"
      ],
      "execution_count": 9,
      "outputs": [
        {
          "output_type": "execute_result",
          "data": {
            "text/plain": [
              "3.6313905096639107"
            ]
          },
          "metadata": {
            "tags": []
          },
          "execution_count": 9
        }
      ]
    },
    {
      "metadata": {
        "id": "pYk7nwKktAsq",
        "colab_type": "text"
      },
      "cell_type": "markdown",
      "source": [
        "**Now that we've our linear regression function(lin) and loss function(mse_loss) defined, we need an optimizer that finds best values for $a$ and $b$  **\n",
        "\n",
        "##Gradient Descent optimizer\n",
        "\n",
        "**For a fixed dataset $x$ and $y$ mse_loss(a,b) is a function of $a$ and $b$. We would like to find the values of $a$ and $b$ that minimize that function.**\n",
        "\n",
        "**Gradient descent is an algorithm that minimizes functions. Given a function defined by a set of parameters, gradient descent starts with an initial set of parameter values and iteratively moves toward a set of parameter values that minimize the function. This iterative minimization is achieved by taking steps in the negative direction of the function gradient.**"
      ]
    },
    {
      "metadata": {
        "id": "syFjLAMTjHX-",
        "colab_type": "code",
        "colab": {
          "base_uri": "https://localhost:8080/",
          "height": 34
        },
        "outputId": "d664cbfe-a8f2-48f9-e030-215834f1dbdb"
      },
      "cell_type": "code",
      "source": [
        "#Let's start by generating a little bigger data\n",
        "x,y=gen_fake_data(10000,3.0,8.0)\n",
        "x.shape,y.shape,type(x),type(y)"
      ],
      "execution_count": 39,
      "outputs": [
        {
          "output_type": "execute_result",
          "data": {
            "text/plain": [
              "((10000,), (10000,), numpy.ndarray, numpy.ndarray)"
            ]
          },
          "metadata": {
            "tags": []
          },
          "execution_count": 39
        }
      ]
    },
    {
      "metadata": {
        "id": "fm3r1iWtuPil",
        "colab_type": "code",
        "colab": {}
      },
      "cell_type": "code",
      "source": [
        "x,y=V(x),V(y) #converting np.ndarray into pytorch variables. P.S: This step is not needed after pytorch v0.4"
      ],
      "execution_count": 0,
      "outputs": []
    },
    {
      "metadata": {
        "id": "tCQWjgPCuZA4",
        "colab_type": "code",
        "colab": {
          "base_uri": "https://localhost:8080/",
          "height": 102
        },
        "outputId": "453369fb-c3af-4cd5-ae23-a43fa79cb12e"
      },
      "cell_type": "code",
      "source": [
        "a=V(np.random.randn(1),requires_grad=True)\n",
        "b=V(np.random.randn(1),requires_grad=True) #starting with random a and b weights of type pytorch variable\n",
        "a,b"
      ],
      "execution_count": 41,
      "outputs": [
        {
          "output_type": "execute_result",
          "data": {
            "text/plain": [
              "(Variable containing:\n",
              " -2.4541\n",
              " [torch.cuda.FloatTensor of size 1 (GPU 0)], Variable containing:\n",
              " -1.0557\n",
              " [torch.cuda.FloatTensor of size 1 (GPU 0)])"
            ]
          },
          "metadata": {
            "tags": []
          },
          "execution_count": 41
        }
      ]
    },
    {
      "metadata": {
        "id": "4UNhKbFJvkid",
        "colab_type": "code",
        "colab": {
          "base_uri": "https://localhost:8080/",
          "height": 187
        },
        "outputId": "027e4b94-1949-4f07-9bf0-0e04b2651ad3"
      },
      "cell_type": "code",
      "source": [
        "lr=1e-3\n",
        "for t in range(10000):    # Forward pass: compute predicted y using operations on Variables\n",
        "  loss=mse_loss(a,b,x,y)\n",
        "  if (t%1000==0): print(loss.data[0]) \n",
        "  \n",
        "  # Computes the gradient of loss with respect to all Variables with requires_grad=True.\n",
        "  # After this call a.grad and b.grad will be Variables holding the gradient\n",
        "  # of the loss with respect to a and b respectively\n",
        "  loss.backward()\n",
        "  \n",
        "  \n",
        "  # Update a and b using gradient descent; a.data and b.data are Tensors,\n",
        "  # a.grad and b.grad are Variables and a.grad.data and b.grad.data are Tensors\n",
        "  a.data= a.data-lr*a.grad.data\n",
        "  b.data= b.data-lr*b.grad.data\n",
        "  \n",
        "  # Zero the gradients\n",
        "  a.grad.data.zero_()\n",
        "  b.grad.data.zero_()\n"
      ],
      "execution_count": 42,
      "outputs": [
        {
          "output_type": "stream",
          "text": [
            "141.51861572265625\n",
            "0.9813310503959656\n",
            "0.10777968913316727\n",
            "0.09989085048437119\n",
            "0.09793990105390549\n",
            "0.09646869450807571\n",
            "0.09533698856830597\n",
            "0.0944683626294136\n",
            "0.0938015878200531\n",
            "0.09328839927911758\n"
          ],
          "name": "stdout"
        }
      ]
    },
    {
      "metadata": {
        "id": "gNRQ2xqZwq3g",
        "colab_type": "code",
        "colab": {
          "base_uri": "https://localhost:8080/",
          "height": 102
        },
        "outputId": "f3b3f9d8-0a15-4ad6-f1f8-87e60de6a665"
      },
      "cell_type": "code",
      "source": [
        "a,b"
      ],
      "execution_count": 48,
      "outputs": [
        {
          "output_type": "execute_result",
          "data": {
            "text/plain": [
              "(Variable containing:\n",
              "  2.8795\n",
              " [torch.cuda.FloatTensor of size 1 (GPU 0)], Variable containing:\n",
              "  8.0599\n",
              " [torch.cuda.FloatTensor of size 1 (GPU 0)])"
            ]
          },
          "metadata": {
            "tags": []
          },
          "execution_count": 48
        }
      ]
    },
    {
      "metadata": {
        "id": "tWJORI882_QB",
        "colab_type": "text"
      },
      "cell_type": "markdown",
      "source": [
        "## Gradient Descent for Classification with pytorch\n",
        "**Everything stays same as above, only we change the loss function for our classification problem**\n"
      ]
    },
    {
      "metadata": {
        "id": "vK-q6wSK1JRq",
        "colab_type": "code",
        "colab": {}
      },
      "cell_type": "code",
      "source": [
        "def gen_fake_data2(n, a, b):\n",
        "    x = s = np.random.uniform(0,1,n) \n",
        "    y = lin(a,b,x) + 0.1 * np.random.normal(0,3,n)\n",
        "    return x, np.where(y>10, 1, 0).astype(np.float32)"
      ],
      "execution_count": 0,
      "outputs": []
    },
    {
      "metadata": {
        "id": "lEXvJaen1KRj",
        "colab_type": "code",
        "colab": {}
      },
      "cell_type": "code",
      "source": [
        "x,y = gen_fake_data2(10000, 3., 8.)\n",
        "x,y = V(x),V(y)"
      ],
      "execution_count": 0,
      "outputs": []
    },
    {
      "metadata": {
        "id": "sR6f3zkC5l4N",
        "colab_type": "code",
        "colab": {
          "base_uri": "https://localhost:8080/",
          "height": 34
        },
        "outputId": "c8a8e88a-8a6a-4c99-8f27-338d09f78e33"
      },
      "cell_type": "code",
      "source": [
        "x.shape,y.shape"
      ],
      "execution_count": 71,
      "outputs": [
        {
          "output_type": "execute_result",
          "data": {
            "text/plain": [
              "(torch.Size([10000]), torch.Size([10000]))"
            ]
          },
          "metadata": {
            "tags": []
          },
          "execution_count": 71
        }
      ]
    },
    {
      "metadata": {
        "id": "nviZ_QPV3Lx4",
        "colab_type": "code",
        "colab": {}
      },
      "cell_type": "code",
      "source": [
        "def nll(y_hat, y):\n",
        "    y_hat = torch.clamp(y_hat, 1e-5, 1-1e-5)\n",
        "    return (y*y_hat.log() + (1-y)*(1-y_hat).log()).mean()"
      ],
      "execution_count": 0,
      "outputs": []
    },
    {
      "metadata": {
        "id": "RM2rdBG64z24",
        "colab_type": "code",
        "colab": {}
      },
      "cell_type": "code",
      "source": [
        "a = V(np.random.randn(1), requires_grad=True)\n",
        "b = V(np.random.randn(1), requires_grad=True)"
      ],
      "execution_count": 0,
      "outputs": []
    },
    {
      "metadata": {
        "id": "c9VswGyk5GFG",
        "colab_type": "code",
        "colab": {
          "base_uri": "https://localhost:8080/",
          "height": 102
        },
        "outputId": "cd125095-56bd-4c0c-c29e-0fb622892e3b"
      },
      "cell_type": "code",
      "source": [
        "a,b"
      ],
      "execution_count": 101,
      "outputs": [
        {
          "output_type": "execute_result",
          "data": {
            "text/plain": [
              "(Variable containing:\n",
              " -1.5738\n",
              " [torch.cuda.FloatTensor of size 1 (GPU 0)], Variable containing:\n",
              "  0.9355\n",
              " [torch.cuda.FloatTensor of size 1 (GPU 0)])"
            ]
          },
          "metadata": {
            "tags": []
          },
          "execution_count": 101
        }
      ]
    },
    {
      "metadata": {
        "id": "pBECO1qx5HO3",
        "colab_type": "code",
        "colab": {
          "base_uri": "https://localhost:8080/",
          "height": 68
        },
        "outputId": "ee9da80f-a8ce-42eb-e3dc-6095798760af"
      },
      "cell_type": "code",
      "source": [
        "lr = 1e-2\n",
        "for t in range(3000):\n",
        "    p = (-lin(a,b,x)).exp()\n",
        "    y_hat = 1/(1+p)# to convert predictions between 0 and 1(classification problem)\n",
        "    loss = nll(y_hat,y)\n",
        "    if t % 1000 == 0:\n",
        "        print(loss.data[0],     np.mean(to_np(y)==(to_np(y_hat)>0.5)))\n",
        "    \n",
        "    loss.backward()\n",
        "    a.data =a.data- lr * a.grad.data\n",
        "    b.data =b.data- lr * b.grad.data\n",
        "    a.grad.data.zero_()\n",
        "    b.grad.data.zero_()"
      ],
      "execution_count": 102,
      "outputs": [
        {
          "output_type": "stream",
          "text": [
            "-0.9157661199569702 0.0998\n",
            "-3.937028169631958 0.3301\n",
            "-7.708682060241699 0.3301\n"
          ],
          "name": "stdout"
        }
      ]
    },
    {
      "metadata": {
        "id": "tqkgbuDe7t3r",
        "colab_type": "text"
      },
      "cell_type": "markdown",
      "source": [
        "**0.3301, Not bad**"
      ]
    },
    {
      "metadata": {
        "id": "8QDSLkeC72Rc",
        "colab_type": "text"
      },
      "cell_type": "markdown",
      "source": [
        "##End.\n",
        "\n",
        "\n"
      ]
    }
  ]
}