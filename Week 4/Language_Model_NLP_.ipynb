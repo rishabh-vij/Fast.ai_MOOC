{
 "cells": [
  {
   "cell_type": "markdown",
   "metadata": {},
   "source": [
    "## Language model and sentiment analysis\n",
    "**This week I try to follow prof. Jeremy to create a language model and then use it as a base to train our sentiment analysis model.**\n",
    "**P.S: As I was building this model using colab after about 4-5 hours my VM reached out of memory and the language model training was left in between. Still we managed to make quite a decent model with quite low delta between training and validation sets. THIS NOTEBOOK IS INCOMPLETE**"
   ]
  },
  {
   "cell_type": "code",
   "execution_count": 3,
   "metadata": {
    "colab": {
     "autoexec": {
      "startup": false,
      "wait_interval": 0
     },
     "base_uri": "https://localhost:8080/",
     "height": 1839
    },
    "colab_type": "code",
    "executionInfo": {
     "elapsed": 21165,
     "status": "ok",
     "timestamp": 1532479707852,
     "user": {
      "displayName": "Rishabh Vij",
      "photoUrl": "https://lh3.googleusercontent.com/a/default-user=s128",
      "userId": "116715461577636413908"
     },
     "user_tz": -330
    },
    "id": "p_bT0KbC4t4h",
    "outputId": "30a8c383-ac70-479c-d73c-d8b1b80f06d2"
   },
   "outputs": [
    {
     "name": "stdout",
     "output_type": "stream",
     "text": [
      "Collecting https://github.com/fastai/fastai/archive/master.zip\n",
      "  Downloading https://github.com/fastai/fastai/archive/master.zip\n",
      "\u001b[K     \\ 90.6MB 61.3MB/s\n",
      "Requirement already satisfied (use --upgrade to upgrade): fastai==0.7.0 from https://github.com/fastai/fastai/archive/master.zip in /usr/local/lib/python3.6/dist-packages\n",
      "Requirement already satisfied: bcolz in /usr/local/lib/python3.6/dist-packages (from fastai==0.7.0) (1.2.1)\n",
      "Requirement already satisfied: bleach in /usr/local/lib/python3.6/dist-packages (from fastai==0.7.0) (2.1.3)\n",
      "Requirement already satisfied: certifi in /usr/local/lib/python3.6/dist-packages (from fastai==0.7.0) (2018.4.16)\n",
      "Requirement already satisfied: cycler in /usr/local/lib/python3.6/dist-packages (from fastai==0.7.0) (0.10.0)\n",
      "Requirement already satisfied: decorator in /usr/local/lib/python3.6/dist-packages (from fastai==0.7.0) (4.3.0)\n",
      "Requirement already satisfied: entrypoints in /usr/local/lib/python3.6/dist-packages (from fastai==0.7.0) (0.2.3)\n",
      "Requirement already satisfied: feather-format in /usr/local/lib/python3.6/dist-packages (from fastai==0.7.0) (0.4.0)\n",
      "Requirement already satisfied: graphviz in /usr/local/lib/python3.6/dist-packages (from fastai==0.7.0) (0.8.4)\n",
      "Requirement already satisfied: html5lib in /usr/local/lib/python3.6/dist-packages (from fastai==0.7.0) (1.0.1)\n",
      "Requirement already satisfied: ipykernel in /usr/local/lib/python3.6/dist-packages (from fastai==0.7.0) (4.6.1)\n",
      "Requirement already satisfied: ipython in /usr/local/lib/python3.6/dist-packages (from fastai==0.7.0) (5.5.0)\n",
      "Requirement already satisfied: ipython-genutils in /usr/local/lib/python3.6/dist-packages (from fastai==0.7.0) (0.2.0)\n",
      "Requirement already satisfied: ipywidgets in /usr/local/lib/python3.6/dist-packages (from fastai==0.7.0) (7.3.0)\n",
      "Requirement already satisfied: isoweek in /usr/local/lib/python3.6/dist-packages (from fastai==0.7.0) (1.3.3)\n",
      "Requirement already satisfied: jedi in /usr/local/lib/python3.6/dist-packages (from fastai==0.7.0) (0.12.1)\n",
      "Requirement already satisfied: Jinja2 in /usr/local/lib/python3.6/dist-packages (from fastai==0.7.0) (2.10)\n",
      "Requirement already satisfied: jsonschema in /usr/local/lib/python3.6/dist-packages (from fastai==0.7.0) (2.6.0)\n",
      "Requirement already satisfied: jupyter in /usr/local/lib/python3.6/dist-packages (from fastai==0.7.0) (1.0.0)\n",
      "Requirement already satisfied: MarkupSafe in /usr/local/lib/python3.6/dist-packages (from fastai==0.7.0) (1.0)\n",
      "Requirement already satisfied: matplotlib in /usr/local/lib/python3.6/dist-packages (from fastai==0.7.0) (2.1.2)\n",
      "Requirement already satisfied: numpy in /usr/local/lib/python3.6/dist-packages (from fastai==0.7.0) (1.14.5)\n",
      "Requirement already satisfied: opencv-python in /usr/local/lib/python3.6/dist-packages (from fastai==0.7.0) (3.4.2.16)\n",
      "Requirement already satisfied: pandas in /usr/local/lib/python3.6/dist-packages (from fastai==0.7.0) (0.22.0)\n",
      "Requirement already satisfied: pandas_summary in /usr/local/lib/python3.6/dist-packages (from fastai==0.7.0) (0.0.41)\n",
      "Requirement already satisfied: pickleshare in /usr/local/lib/python3.6/dist-packages (from fastai==0.7.0) (0.7.4)\n",
      "Requirement already satisfied: Pillow in /usr/local/lib/python3.6/dist-packages (from fastai==0.7.0) (5.2.0)\n",
      "Requirement already satisfied: plotnine in /usr/local/lib/python3.6/dist-packages (from fastai==0.7.0) (0.3.0)\n",
      "Requirement already satisfied: ptyprocess in /usr/local/lib/python3.6/dist-packages (from fastai==0.7.0) (0.6.0)\n",
      "Requirement already satisfied: Pygments in /usr/local/lib/python3.6/dist-packages (from fastai==0.7.0) (2.1.3)\n",
      "Requirement already satisfied: pyparsing in /usr/local/lib/python3.6/dist-packages (from fastai==0.7.0) (2.2.0)\n",
      "Requirement already satisfied: python-dateutil in /usr/local/lib/python3.6/dist-packages (from fastai==0.7.0) (2.5.3)\n",
      "Requirement already satisfied: pytz in /usr/local/lib/python3.6/dist-packages (from fastai==0.7.0) (2018.5)\n",
      "Requirement already satisfied: PyYAML in /usr/local/lib/python3.6/dist-packages (from fastai==0.7.0) (3.13)\n",
      "Requirement already satisfied: pyzmq in /usr/local/lib/python3.6/dist-packages (from fastai==0.7.0) (16.0.4)\n",
      "Requirement already satisfied: scipy in /usr/local/lib/python3.6/dist-packages (from fastai==0.7.0) (0.19.1)\n",
      "Requirement already satisfied: seaborn in /usr/local/lib/python3.6/dist-packages (from fastai==0.7.0) (0.7.1)\n",
      "Requirement already satisfied: simplegeneric in /usr/local/lib/python3.6/dist-packages (from fastai==0.7.0) (0.8.1)\n",
      "Requirement already satisfied: sklearn_pandas in /usr/local/lib/python3.6/dist-packages (from fastai==0.7.0) (1.6.0)\n",
      "Requirement already satisfied: testpath in /usr/local/lib/python3.6/dist-packages (from fastai==0.7.0) (0.3.1)\n",
      "Requirement already satisfied: torch<0.4 in /usr/local/lib/python3.6/dist-packages (from fastai==0.7.0) (0.3.0.post4)\n",
      "Requirement already satisfied: torchtext in /usr/local/lib/python3.6/dist-packages (from fastai==0.7.0) (0.2.3)\n",
      "Requirement already satisfied: torchvision in /usr/local/lib/python3.6/dist-packages (from fastai==0.7.0) (0.2.1)\n",
      "Requirement already satisfied: tornado in /usr/local/lib/python3.6/dist-packages (from fastai==0.7.0) (4.5.3)\n",
      "Requirement already satisfied: tqdm in /usr/local/lib/python3.6/dist-packages (from fastai==0.7.0) (4.23.4)\n",
      "Requirement already satisfied: traitlets in /usr/local/lib/python3.6/dist-packages (from fastai==0.7.0) (4.3.2)\n",
      "Requirement already satisfied: wcwidth in /usr/local/lib/python3.6/dist-packages (from fastai==0.7.0) (0.1.7)\n",
      "Requirement already satisfied: webencodings in /usr/local/lib/python3.6/dist-packages (from fastai==0.7.0) (0.5.1)\n",
      "Requirement already satisfied: widgetsnbextension in /usr/local/lib/python3.6/dist-packages (from fastai==0.7.0) (3.3.0)\n",
      "Requirement already satisfied: six in /usr/local/lib/python3.6/dist-packages (from bleach->fastai==0.7.0) (1.11.0)\n",
      "Requirement already satisfied: pyarrow>=0.4.0 in /usr/local/lib/python3.6/dist-packages (from feather-format->fastai==0.7.0) (0.9.0)\n",
      "Requirement already satisfied: jupyter-client in /usr/local/lib/python3.6/dist-packages (from ipykernel->fastai==0.7.0) (5.2.3)\n",
      "Requirement already satisfied: pexpect; sys_platform != \"win32\" in /usr/local/lib/python3.6/dist-packages (from ipython->fastai==0.7.0) (4.6.0)\n",
      "Requirement already satisfied: setuptools>=18.5 in /usr/local/lib/python3.6/dist-packages (from ipython->fastai==0.7.0) (39.1.0)\n",
      "Requirement already satisfied: prompt-toolkit<2.0.0,>=1.0.4 in /usr/local/lib/python3.6/dist-packages (from ipython->fastai==0.7.0) (1.0.15)\n",
      "Requirement already satisfied: nbformat>=4.2.0 in /usr/local/lib/python3.6/dist-packages (from ipywidgets->fastai==0.7.0) (4.4.0)\n",
      "Requirement already satisfied: parso>=0.3.0 in /usr/local/lib/python3.6/dist-packages (from jedi->fastai==0.7.0) (0.3.1)\n",
      "Requirement already satisfied: qtconsole in /usr/local/lib/python3.6/dist-packages (from jupyter->fastai==0.7.0) (4.3.1)\n",
      "Requirement already satisfied: nbconvert in /usr/local/lib/python3.6/dist-packages (from jupyter->fastai==0.7.0) (5.3.1)\n",
      "Requirement already satisfied: jupyter-console in /usr/local/lib/python3.6/dist-packages (from jupyter->fastai==0.7.0) (5.2.0)\n",
      "Requirement already satisfied: notebook in /usr/local/lib/python3.6/dist-packages (from jupyter->fastai==0.7.0) (5.2.2)\n",
      "Requirement already satisfied: statsmodels>=0.8.0 in /usr/local/lib/python3.6/dist-packages (from plotnine->fastai==0.7.0) (0.8.0)\n",
      "Requirement already satisfied: patsy>=0.4.1 in /usr/local/lib/python3.6/dist-packages (from plotnine->fastai==0.7.0) (0.5.0)\n",
      "Requirement already satisfied: mizani>=0.4.1 in /usr/local/lib/python3.6/dist-packages (from plotnine->fastai==0.7.0) (0.4.6)\n",
      "Requirement already satisfied: scikit-learn>=0.15.0 in /usr/local/lib/python3.6/dist-packages (from sklearn_pandas->fastai==0.7.0) (0.19.2)\n",
      "Requirement already satisfied: requests in /usr/local/lib/python3.6/dist-packages (from torchtext->fastai==0.7.0) (2.18.4)\n",
      "Requirement already satisfied: jupyter-core in /usr/local/lib/python3.6/dist-packages (from jupyter-client->ipykernel->fastai==0.7.0) (4.4.0)\n",
      "Requirement already satisfied: pandocfilters>=1.4.1 in /usr/local/lib/python3.6/dist-packages (from nbconvert->jupyter->fastai==0.7.0) (1.4.2)\n",
      "Requirement already satisfied: mistune>=0.7.4 in /usr/local/lib/python3.6/dist-packages (from nbconvert->jupyter->fastai==0.7.0) (0.8.3)\n",
      "Requirement already satisfied: terminado>=0.3.3; sys_platform != \"win32\" in /usr/local/lib/python3.6/dist-packages (from notebook->jupyter->fastai==0.7.0) (0.8.1)\n",
      "Requirement already satisfied: palettable in /usr/local/lib/python3.6/dist-packages (from mizani>=0.4.1->plotnine->fastai==0.7.0) (3.1.1)\n",
      "Requirement already satisfied: chardet<3.1.0,>=3.0.2 in /usr/local/lib/python3.6/dist-packages (from requests->torchtext->fastai==0.7.0) (3.0.4)\n",
      "Requirement already satisfied: urllib3<1.23,>=1.21.1 in /usr/local/lib/python3.6/dist-packages (from requests->torchtext->fastai==0.7.0) (1.22)\n",
      "Requirement already satisfied: idna<2.7,>=2.5 in /usr/local/lib/python3.6/dist-packages (from requests->torchtext->fastai==0.7.0) (2.6)\n",
      "Building wheels for collected packages: fastai\n",
      "  Running setup.py bdist_wheel for fastai ... \u001b[?25l-\b \b\\\b \bdone\n",
      "\u001b[?25h  Stored in directory: /tmp/pip-ephem-wheel-cache-7aph782_/wheels/64/3d/9f/d12a217aa2531321c5b9ae96288fcae2687d3b744376e8f94f\n",
      "Successfully built fastai\n"
     ]
    },
    {
     "name": "stdout",
     "output_type": "stream",
     "text": [
      "Requirement already satisfied: opencv-python in /usr/local/lib/python3.6/dist-packages (3.4.2.16)\r\n",
      "Requirement already satisfied: numpy>=1.11.3 in /usr/local/lib/python3.6/dist-packages (from opencv-python) (1.14.5)\n",
      "Hit:1 http://archive.ubuntu.com/ubuntu artful InRelease\n",
      "Hit:2 http://security.ubuntu.com/ubuntu artful-security InRelease\n",
      "Hit:3 http://archive.ubuntu.com/ubuntu artful-updates InRelease\n",
      "Hit:4 http://archive.ubuntu.com/ubuntu artful-backports InRelease\n",
      "Reading package lists... Done\n",
      "Building dependency tree       \n",
      "Reading state information... Done\n",
      "All packages are up to date.\n",
      "Reading package lists... Done\n",
      "Building dependency tree       \n",
      "Reading state information... Done\n",
      "libsm6 is already the newest version (2:1.2.2-1).\n",
      "libxext6 is already the newest version (2:1.3.3-1).\n",
      "0 upgraded, 0 newly installed, 0 to remove and 0 not upgraded.\n",
      "Requirement already satisfied: torch==0.3.0.post4 from http://download.pytorch.org/whl/cu80/torch-0.3.0.post4-cp36-cp36m-linux_x86_64.whl in /usr/local/lib/python3.6/dist-packages (0.3.0.post4)\n",
      "Requirement already satisfied: numpy in /usr/local/lib/python3.6/dist-packages (from torch==0.3.0.post4) (1.14.5)\n",
      "Requirement already satisfied: pyyaml in /usr/local/lib/python3.6/dist-packages (from torch==0.3.0.post4) (3.13)\n",
      "Requirement already satisfied: torchvision in /usr/local/lib/python3.6/dist-packages (0.2.1)\n",
      "Requirement already satisfied: six in /usr/local/lib/python3.6/dist-packages (from torchvision) (1.11.0)\n",
      "Requirement already satisfied: numpy in /usr/local/lib/python3.6/dist-packages (from torchvision) (1.14.5)\n",
      "Requirement already satisfied: pillow>=4.1.1 in /usr/local/lib/python3.6/dist-packages (from torchvision) (5.2.0)\n",
      "Requirement already satisfied: torch in /usr/local/lib/python3.6/dist-packages (from torchvision) (0.3.0.post4)\n",
      "Requirement already satisfied: pyyaml in /usr/local/lib/python3.6/dist-packages (from torch->torchvision) (3.13)\n"
     ]
    }
   ],
   "source": [
    "!pip install https://github.com/fastai/fastai/archive/master.zip\n",
    "!pip install opencv-python\n",
    "!apt update && apt install -y libsm6 libxext6\n",
    "!pip3 install http://download.pytorch.org/whl/cu80/torch-0.3.0.post4-cp36-cp36m-linux_x86_64.whl \n",
    "!pip3 install torchvision\n"
   ]
  },
  {
   "cell_type": "code",
   "execution_count": 4,
   "metadata": {
    "colab": {
     "autoexec": {
      "startup": false,
      "wait_interval": 0
     },
     "base_uri": "https://localhost:8080/",
     "height": 136
    },
    "colab_type": "code",
    "executionInfo": {
     "elapsed": 2868,
     "status": "ok",
     "timestamp": 1532479734503,
     "user": {
      "displayName": "Rishabh Vij",
      "photoUrl": "https://lh3.googleusercontent.com/a/default-user=s128",
      "userId": "116715461577636413908"
     },
     "user_tz": -330
    },
    "id": "h7CJKrR56EbD",
    "outputId": "41a4708c-8853-470b-9f95-10930e509c0e"
   },
   "outputs": [
    {
     "name": "stdout",
     "output_type": "stream",
     "text": [
      "Requirement already satisfied: torchtext in /usr/local/lib/python3.6/dist-packages (0.2.3)\r\n",
      "Requirement already satisfied: requests in /usr/local/lib/python3.6/dist-packages (from torchtext) (2.18.4)\r\n",
      "Requirement already satisfied: tqdm in /usr/local/lib/python3.6/dist-packages (from torchtext) (4.23.4)\r\n",
      "Requirement already satisfied: idna<2.7,>=2.5 in /usr/local/lib/python3.6/dist-packages (from requests->torchtext) (2.6)\r\n",
      "Requirement already satisfied: urllib3<1.23,>=1.21.1 in /usr/local/lib/python3.6/dist-packages (from requests->torchtext) (1.22)\n",
      "Requirement already satisfied: chardet<3.1.0,>=3.0.2 in /usr/local/lib/python3.6/dist-packages (from requests->torchtext) (3.0.4)\n",
      "Requirement already satisfied: certifi>=2017.4.17 in /usr/local/lib/python3.6/dist-packages (from requests->torchtext) (2018.4.16)\n"
     ]
    }
   ],
   "source": [
    "! pip install torchtext"
   ]
  },
  {
   "cell_type": "code",
   "execution_count": 5,
   "metadata": {
    "colab": {
     "autoexec": {
      "startup": false,
      "wait_interval": 0
     },
     "base_uri": "https://localhost:8080/",
     "height": 1176
    },
    "colab_type": "code",
    "executionInfo": {
     "elapsed": 328736,
     "status": "ok",
     "timestamp": 1532480121307,
     "user": {
      "displayName": "Rishabh Vij",
      "photoUrl": "https://lh3.googleusercontent.com/a/default-user=s128",
      "userId": "116715461577636413908"
     },
     "user_tz": -330
    },
    "id": "wXYQQTAE6Pcl",
    "outputId": "b13d99b9-102e-4cb6-be99-8da6daef44fa"
   },
   "outputs": [
    {
     "name": "stdout",
     "output_type": "stream",
     "text": [
      "Collecting spacy\n",
      "\u001b[?25l  Downloading https://files.pythonhosted.org/packages/24/de/ac14cd453c98656d6738a5669f96a4ac7f668493d5e6b78227ac933c5fd4/spacy-2.0.12.tar.gz (22.0MB)\n",
      "\u001b[K    100% |████████████████████████████████| 22.0MB 1.7MB/s \n",
      "\u001b[?25hRequirement already satisfied: numpy>=1.7 in /usr/local/lib/python3.6/dist-packages (from spacy) (1.14.5)\n",
      "Collecting murmurhash<0.29,>=0.28 (from spacy)\n",
      "  Downloading https://files.pythonhosted.org/packages/5e/31/c8c1ecafa44db30579c8c457ac7a0f819e8b1dbc3e58308394fff5ff9ba7/murmurhash-0.28.0.tar.gz\n",
      "Collecting cymem<1.32,>=1.30 (from spacy)\n",
      "  Downloading https://files.pythonhosted.org/packages/f8/9e/273fbea507de99166c11cd0cb3fde1ac01b5bc724d9a407a2f927ede91a1/cymem-1.31.2.tar.gz\n",
      "Collecting preshed<2.0.0,>=1.0.0 (from spacy)\n",
      "\u001b[?25l  Downloading https://files.pythonhosted.org/packages/be/fc/09684555ce0ee7086675e6be698e4efeb6d9b315fd5aa96bed347572282b/preshed-1.0.1.tar.gz (112kB)\n",
      "\u001b[K    100% |████████████████████████████████| 122kB 18.5MB/s \n",
      "\u001b[?25hCollecting thinc<6.11.0,>=6.10.3 (from spacy)\n",
      "\u001b[?25l  Downloading https://files.pythonhosted.org/packages/94/b1/47a88072d0a38b3594c0a638a62f9ef7c742b8b8a87f7b105f7ed720b14b/thinc-6.10.3.tar.gz (1.2MB)\n",
      "\u001b[K    100% |████████████████████████████████| 1.2MB 14.2MB/s \n",
      "\u001b[?25hCollecting plac<1.0.0,>=0.9.6 (from spacy)\n",
      "  Downloading https://files.pythonhosted.org/packages/9e/9b/62c60d2f5bc135d2aa1d8c8a86aaf84edb719a59c7f11a4316259e61a298/plac-0.9.6-py2.py3-none-any.whl\n",
      "Collecting ujson>=1.35 (from spacy)\n",
      "\u001b[?25l  Downloading https://files.pythonhosted.org/packages/16/c4/79f3409bc710559015464e5f49b9879430d8f87498ecdc335899732e5377/ujson-1.35.tar.gz (192kB)\n",
      "\u001b[K    100% |████████████████████████████████| 194kB 21.0MB/s \n",
      "\u001b[?25hCollecting dill<0.3,>=0.2 (from spacy)\n",
      "\u001b[?25l  Downloading https://files.pythonhosted.org/packages/6f/78/8b96476f4ae426db71c6e86a8e6a81407f015b34547e442291cd397b18f3/dill-0.2.8.2.tar.gz (150kB)\n",
      "\u001b[K    100% |████████████████████████████████| 153kB 18.2MB/s \n",
      "\u001b[?25hCollecting regex==2017.4.5 (from spacy)\n",
      "\u001b[?25l  Downloading https://files.pythonhosted.org/packages/36/62/c0c0d762ffd4ffaf39f372eb8561b8d491a11ace5a7884610424a8b40f95/regex-2017.04.05.tar.gz (601kB)\n",
      "\u001b[K    100% |████████████████████████████████| 604kB 17.2MB/s \n",
      "\u001b[?25hRequirement already satisfied: requests<3.0.0,>=2.13.0 in /usr/local/lib/python3.6/dist-packages (from spacy) (2.18.4)\n",
      "Collecting msgpack<1.0.0,>=0.5.6 (from thinc<6.11.0,>=6.10.3->spacy)\n",
      "\u001b[?25l  Downloading https://files.pythonhosted.org/packages/22/4e/dcf124fd97e5f5611123d6ad9f40ffd6eb979d1efdc1049e28a795672fcd/msgpack-0.5.6-cp36-cp36m-manylinux1_x86_64.whl (315kB)\n",
      "\u001b[K    100% |████████████████████████████████| 317kB 16.6MB/s \n",
      "\u001b[?25hCollecting msgpack-numpy<1.0.0,>=0.4.1 (from thinc<6.11.0,>=6.10.3->spacy)\n",
      "  Downloading https://files.pythonhosted.org/packages/84/09/fc890664a7a1dd0a88f46c93fb9340d0a27a69e82095a4a54aef2ed94a6d/msgpack_numpy-0.4.3.1-py2.py3-none-any.whl\n",
      "Collecting cytoolz<0.10,>=0.9.0 (from thinc<6.11.0,>=6.10.3->spacy)\n",
      "\u001b[?25l  Downloading https://files.pythonhosted.org/packages/36/f4/9728ba01ccb2f55df9a5af029b48ba0aaca1081bbd7823ea2ee223ba7a42/cytoolz-0.9.0.1.tar.gz (443kB)\n",
      "\u001b[K    100% |████████████████████████████████| 450kB 18.9MB/s \n",
      "\u001b[?25hCollecting wrapt<1.11.0,>=1.10.0 (from thinc<6.11.0,>=6.10.3->spacy)\n",
      "  Downloading https://files.pythonhosted.org/packages/a0/47/66897906448185fcb77fc3c2b1bc20ed0ecca81a0f2f88eda3fc5a34fc3d/wrapt-1.10.11.tar.gz\n",
      "Requirement already satisfied: tqdm<5.0.0,>=4.10.0 in /usr/local/lib/python3.6/dist-packages (from thinc<6.11.0,>=6.10.3->spacy) (4.23.4)\n",
      "Requirement already satisfied: six<2.0.0,>=1.10.0 in /usr/local/lib/python3.6/dist-packages (from thinc<6.11.0,>=6.10.3->spacy) (1.11.0)\n",
      "Requirement already satisfied: idna<2.7,>=2.5 in /usr/local/lib/python3.6/dist-packages (from requests<3.0.0,>=2.13.0->spacy) (2.6)\n",
      "Requirement already satisfied: urllib3<1.23,>=1.21.1 in /usr/local/lib/python3.6/dist-packages (from requests<3.0.0,>=2.13.0->spacy) (1.22)\n",
      "Requirement already satisfied: chardet<3.1.0,>=3.0.2 in /usr/local/lib/python3.6/dist-packages (from requests<3.0.0,>=2.13.0->spacy) (3.0.4)\n",
      "Requirement already satisfied: certifi>=2017.4.17 in /usr/local/lib/python3.6/dist-packages (from requests<3.0.0,>=2.13.0->spacy) (2018.4.16)\n",
      "Requirement already satisfied: toolz>=0.8.0 in /usr/local/lib/python3.6/dist-packages (from cytoolz<0.10,>=0.9.0->thinc<6.11.0,>=6.10.3->spacy) (0.9.0)\n",
      "Building wheels for collected packages: spacy, murmurhash, cymem, preshed, thinc, ujson, dill, regex, cytoolz, wrapt\n",
      "  Running setup.py bdist_wheel for spacy ... \u001b[?25ldone\n",
      "\u001b[?25h  Stored in directory: /content/.cache/pip/wheels/60/0b/bb/7c2e28db574dbb2358176934eddd32a1c5f838ba0bc23eaaab\n",
      "  Running setup.py bdist_wheel for murmurhash ... \u001b[?25ldone\n",
      "\u001b[?25h  Stored in directory: /content/.cache/pip/wheels/b8/94/a4/f69f8664cdc1098603df44771b7fec5fd1b3d8364cdd83f512\n",
      "  Running setup.py bdist_wheel for cymem ... \u001b[?25ldone\n",
      "\u001b[?25h  Stored in directory: /content/.cache/pip/wheels/55/8d/4a/f6328252aa2aaec0b1cb906fd96a1566d77f0f67701071ad13\n",
      "  Running setup.py bdist_wheel for preshed ... \u001b[?25ldone\n",
      "\u001b[?25h  Stored in directory: /content/.cache/pip/wheels/ca/e5/8b/73706d7232da301838e0bc564367a2f7b2fc8f834228fc8a4b\n",
      "  Running setup.py bdist_wheel for thinc ... \u001b[?25ldone\n",
      "\u001b[?25h  Stored in directory: /content/.cache/pip/wheels/db/bc/e1/9b321b6b203288cf636a56e668ed5700076af4ed66062278ca\n",
      "  Running setup.py bdist_wheel for ujson ... \u001b[?25ldone\n",
      "\u001b[?25h  Stored in directory: /content/.cache/pip/wheels/28/77/e4/0311145b9c2e2f01470e744855131f9e34d6919687550f87d1\n",
      "  Running setup.py bdist_wheel for dill ... \u001b[?25ldone\n",
      "\u001b[?25h  Stored in directory: /content/.cache/pip/wheels/e2/5d/17/f87cb7751896ac629b435a8696f83ee75b11029f5d6f6bda72\n",
      "  Running setup.py bdist_wheel for regex ... \u001b[?25ldone\n",
      "\u001b[?25h  Stored in directory: /content/.cache/pip/wheels/75/07/38/3c16b529d50cb4e0cd3dbc7b75cece8a09c132692c74450b01\n",
      "  Running setup.py bdist_wheel for cytoolz ... \u001b[?25ldone\n",
      "\u001b[?25h  Stored in directory: /content/.cache/pip/wheels/88/f3/11/9817b001e59ab04889e8cffcbd9087e2e2155b9ebecfc8dd38\n",
      "  Running setup.py bdist_wheel for wrapt ... \u001b[?25ldone\n",
      "\u001b[?25h  Stored in directory: /content/.cache/pip/wheels/48/5d/04/22361a593e70d23b1f7746d932802efe1f0e523376a74f321e\n",
      "Successfully built spacy murmurhash cymem preshed thinc ujson dill regex cytoolz wrapt\n",
      "Installing collected packages: murmurhash, cymem, preshed, msgpack, msgpack-numpy, cytoolz, wrapt, plac, dill, thinc, ujson, regex, spacy\n",
      "Successfully installed cymem-1.31.2 cytoolz-0.9.0.1 dill-0.2.8.2 msgpack-0.5.6 msgpack-numpy-0.4.3.1 murmurhash-0.28.0 plac-0.9.6 preshed-1.0.1 regex-2017.4.5 spacy-2.0.12 thinc-6.10.3 ujson-1.35 wrapt-1.10.11\n"
     ]
    }
   ],
   "source": [
    "! pip install spacy"
   ]
  },
  {
   "cell_type": "code",
   "execution_count": 0,
   "metadata": {
    "colab": {
     "autoexec": {
      "startup": false,
      "wait_interval": 0
     }
    },
    "colab_type": "code",
    "id": "cTvI8kn36eUg"
   },
   "outputs": [],
   "source": [
    "%reload_ext autoreload\n",
    "%autoreload 2\n",
    "%matplotlib inline\n",
    "\n",
    "from fastai.learner import *\n",
    "\n",
    "import torchtext\n",
    "from torchtext import vocab, data\n",
    "from torchtext.datasets import language_modeling\n",
    "\n",
    "from fastai.rnn_reg import *\n",
    "from fastai.rnn_train import *\n",
    "from fastai.nlp import *\n",
    "from fastai.lm_rnn import *\n",
    "\n",
    "import dill as pickle\n",
    "import spacy"
   ]
  },
  {
   "cell_type": "markdown",
   "metadata": {},
   "source": [
    "**Get data**"
   ]
  },
  {
   "cell_type": "code",
   "execution_count": 7,
   "metadata": {
    "colab": {
     "autoexec": {
      "startup": false,
      "wait_interval": 0
     },
     "base_uri": "https://localhost:8080/",
     "height": 102
    },
    "colab_type": "code",
    "executionInfo": {
     "elapsed": 1894,
     "status": "ok",
     "timestamp": 1532480276929,
     "user": {
      "displayName": "Rishabh Vij",
      "photoUrl": "https://lh3.googleusercontent.com/a/default-user=s128",
      "userId": "116715461577636413908"
     },
     "user_tz": -330
    },
    "id": "b-DySBfV74Bb",
    "outputId": "8b586a17-a218-44d6-84c8-90bf93c75d6d"
   },
   "outputs": [
    {
     "name": "stdout",
     "output_type": "stream",
     "text": [
      "wget: invalid option -- 'z'\r\n",
      "wget: invalid option -- 'f'\r\n",
      "Usage: wget [OPTION]... [URL]...\r\n",
      "\r\n",
      "Try `wget --help' for more options.\r\n"
     ]
    }
   ],
   "source": [
    "! mkdir data && wget http://files.fast.ai/data/aclImdb.tgz !tar -xvzf aclImdb.tgz -d data/\n"
   ]
  },
  {
   "cell_type": "code",
   "execution_count": 8,
   "metadata": {
    "colab": {
     "autoexec": {
      "startup": false,
      "wait_interval": 0
     },
     "base_uri": "https://localhost:8080/",
     "height": 34
    },
    "colab_type": "code",
    "executionInfo": {
     "elapsed": 1955,
     "status": "ok",
     "timestamp": 1532480296207,
     "user": {
      "displayName": "Rishabh Vij",
      "photoUrl": "https://lh3.googleusercontent.com/a/default-user=s128",
      "userId": "116715461577636413908"
     },
     "user_tz": -330
    },
    "id": "tqB1XuYP8UGL",
    "outputId": "5de4bd02-bdbe-4a60-97ea-a9e66f1d2aff"
   },
   "outputs": [
    {
     "name": "stdout",
     "output_type": "stream",
     "text": [
      "mkdir: cannot create directory ‘data’: File exists\r\n"
     ]
    }
   ],
   "source": [
    "! mkdir data && wget http://files.fast.ai/data/aclImdb.tgz && !tar -xvzf aclImdb.tgz -d data/\n"
   ]
  },
  {
   "cell_type": "code",
   "execution_count": 9,
   "metadata": {
    "colab": {
     "autoexec": {
      "startup": false,
      "wait_interval": 0
     },
     "base_uri": "https://localhost:8080/",
     "height": 102
    },
    "colab_type": "code",
    "executionInfo": {
     "elapsed": 2513,
     "status": "ok",
     "timestamp": 1532480314875,
     "user": {
      "displayName": "Rishabh Vij",
      "photoUrl": "https://lh3.googleusercontent.com/a/default-user=s128",
      "userId": "116715461577636413908"
     },
     "user_tz": -330
    },
    "id": "eL2GFL748Yzr",
    "outputId": "316e0821-0126-4d3b-f32f-07644937274a"
   },
   "outputs": [
    {
     "name": "stdout",
     "output_type": "stream",
     "text": [
      "wget: invalid option -- 'z'\r\n",
      "wget: invalid option -- 'f'\r\n",
      "Usage: wget [OPTION]... [URL]...\r\n",
      "\r\n",
      "Try `wget --help' for more options.\r\n"
     ]
    }
   ],
   "source": [
    "! mkdir datanew && wget http://files.fast.ai/data/aclImdb.tgz !tar -xvzf aclImdb.tgz -d data/\n"
   ]
  },
  {
   "cell_type": "code",
   "execution_count": 12,
   "metadata": {
    "colab": {
     "autoexec": {
      "startup": false,
      "wait_interval": 0
     },
     "base_uri": "https://localhost:8080/",
     "height": 221
    },
    "colab_type": "code",
    "executionInfo": {
     "elapsed": 3254,
     "status": "ok",
     "timestamp": 1532480369358,
     "user": {
      "displayName": "Rishabh Vij",
      "photoUrl": "https://lh3.googleusercontent.com/a/default-user=s128",
      "userId": "116715461577636413908"
     },
     "user_tz": -330
    },
    "id": "9p9mxY_g8dON",
    "outputId": "f23f1800-972e-4b0f-bcad-76518dd493c4"
   },
   "outputs": [
    {
     "name": "stdout",
     "output_type": "stream",
     "text": [
      "--2018-07-25 00:59:27--  http://files.fast.ai/data/aclImdb.tgz\r\n",
      "Resolving files.fast.ai (files.fast.ai)... 67.205.15.147\n",
      "Connecting to files.fast.ai (files.fast.ai)|67.205.15.147|:80... connected.\n",
      "HTTP request sent, awaiting response... 200 OK\n",
      "Length: 145982645 (139M) [text/plain]\n",
      "Saving to: ‘aclImdb.tgz’\n",
      "\n",
      "aclImdb.tgz         100%[===================>] 139.22M   106MB/s    in 1.3s    \n",
      "\n",
      "2018-07-25 00:59:28 (106 MB/s) - ‘aclImdb.tgz’ saved [145982645/145982645]\n",
      "\n",
      "/bin/sh: 1: !tar: not found\n"
     ]
    }
   ],
   "source": [
    "! mkdir dataset && wget http://files.fast.ai/data/aclImdb.tgz && !tar -xvzf aclImdb.tgz -d dataset/\n"
   ]
  },
  {
   "cell_type": "code",
   "execution_count": 13,
   "metadata": {
    "colab": {
     "autoexec": {
      "startup": false,
      "wait_interval": 0
     },
     "base_uri": "https://localhost:8080/",
     "height": 51
    },
    "colab_type": "code",
    "executionInfo": {
     "elapsed": 1880,
     "status": "ok",
     "timestamp": 1532480408112,
     "user": {
      "displayName": "Rishabh Vij",
      "photoUrl": "https://lh3.googleusercontent.com/a/default-user=s128",
      "userId": "116715461577636413908"
     },
     "user_tz": -330
    },
    "id": "7_oNhGFJ8hWx",
    "outputId": "e7e83cfd-97fb-4631-a6bd-93e0a137ad57"
   },
   "outputs": [
    {
     "name": "stdout",
     "output_type": "stream",
     "text": [
      "tar: You may not specify more than one '-Acdtrux', '--delete' or  '--test-label' option\r\n",
      "Try 'tar --help' or 'tar --usage' for more information.\r\n"
     ]
    }
   ],
   "source": [
    "!tar -xvzf /datset/aclImdb.tgz -d dataset/\n"
   ]
  },
  {
   "cell_type": "code",
   "execution_count": 14,
   "metadata": {
    "colab": {
     "autoexec": {
      "startup": false,
      "wait_interval": 0
     },
     "base_uri": "https://localhost:8080/",
     "height": 85
    },
    "colab_type": "code",
    "executionInfo": {
     "elapsed": 1995,
     "status": "ok",
     "timestamp": 1532480439577,
     "user": {
      "displayName": "Rishabh Vij",
      "photoUrl": "https://lh3.googleusercontent.com/a/default-user=s128",
      "userId": "116715461577636413908"
     },
     "user_tz": -330
    },
    "id": "WgMP0vJX80I7",
    "outputId": "8e52059a-b4c9-493b-97a6-e3ef20af076b"
   },
   "outputs": [
    {
     "name": "stdout",
     "output_type": "stream",
     "text": [
      "tar (child): /dataset/aclImdb.tgz: Cannot open: No such file or directory\r\n",
      "tar (child): Error is not recoverable: exiting now\r\n",
      "tar: Child returned status 2\r\n",
      "tar: Error is not recoverable: exiting now\r\n"
     ]
    }
   ],
   "source": [
    "!tar -xvzf /dataset/aclImdb.tgz\n"
   ]
  },
  {
   "cell_type": "code",
   "execution_count": 15,
   "metadata": {
    "colab": {
     "autoexec": {
      "startup": false,
      "wait_interval": 0
     },
     "base_uri": "https://localhost:8080/",
     "height": 170
    },
    "colab_type": "code",
    "executionInfo": {
     "elapsed": 1958,
     "status": "ok",
     "timestamp": 1532480455889,
     "user": {
      "displayName": "Rishabh Vij",
      "photoUrl": "https://lh3.googleusercontent.com/a/default-user=s128",
      "userId": "116715461577636413908"
     },
     "user_tz": -330
    },
    "id": "IMqltwIC87y5",
    "outputId": "0c003281-24aa-429b-c676-32ddc59967ad"
   },
   "outputs": [
    {
     "name": "stdout",
     "output_type": "stream",
     "text": [
      "aclImdb.tgz\t     dataset\t\t\t     updatestatus.3\r\n",
      "clouderizer\t     datasets\t\t\t     updatestatus.4\r\n",
      "clouderizer_init.sh  install_clouderizer_service.sh  updatestatus.5\r\n",
      "clouderizer.jar      temp.sh\t\t\t     updatestatus.6\r\n",
      "clouderizer.service  updatestatus\t\t     updatestatus.7\r\n",
      "colab_init.sh\t     updatestatus.1\t\t     updatestatus.8\r\n",
      "data\t\t     updatestatus.10\t\t     updatestatus.9\r\n",
      "datalab\t\t     updatestatus.11\r\n",
      "datanew\t\t     updatestatus.2\r\n"
     ]
    }
   ],
   "source": [
    "! ls"
   ]
  },
  {
   "cell_type": "code",
   "execution_count": 16,
   "metadata": {
    "colab": {
     "autoexec": {
      "startup": false,
      "wait_interval": 0
     },
     "base_uri": "https://localhost:8080/",
     "height": 51
    },
    "colab_type": "code",
    "executionInfo": {
     "elapsed": 1951,
     "status": "ok",
     "timestamp": 1532480483473,
     "user": {
      "displayName": "Rishabh Vij",
      "photoUrl": "https://lh3.googleusercontent.com/a/default-user=s128",
      "userId": "116715461577636413908"
     },
     "user_tz": -330
    },
    "id": "u1-DFwLn8_yk",
    "outputId": "e24e34de-32db-4d8c-ed19-510bf34b92de"
   },
   "outputs": [
    {
     "name": "stdout",
     "output_type": "stream",
     "text": [
      "tar: You may not specify more than one '-Acdtrux', '--delete' or  '--test-label' option\r\n",
      "Try 'tar --help' or 'tar --usage' for more information.\r\n"
     ]
    }
   ],
   "source": [
    "!tar -xvzf aclImdb.tgz -d dataset/\n"
   ]
  },
  {
   "cell_type": "code",
   "execution_count": 0,
   "metadata": {
    "colab": {
     "autoexec": {
      "startup": false,
      "wait_interval": 0
     }
    },
    "colab_type": "code",
    "id": "YtTrKTZm9Ghf"
   },
   "outputs": [],
   "source": [
    "!tar -xvzf aclImdb.tgz\n"
   ]
  },
  {
   "cell_type": "code",
   "execution_count": 18,
   "metadata": {
    "colab": {
     "autoexec": {
      "startup": false,
      "wait_interval": 0
     },
     "base_uri": "https://localhost:8080/",
     "height": 170
    },
    "colab_type": "code",
    "executionInfo": {
     "elapsed": 1999,
     "status": "ok",
     "timestamp": 1532480700905,
     "user": {
      "displayName": "Rishabh Vij",
      "photoUrl": "https://lh3.googleusercontent.com/a/default-user=s128",
      "userId": "116715461577636413908"
     },
     "user_tz": -330
    },
    "id": "RYVo3fwA9Iin",
    "outputId": "140bbbc2-5e02-4d5b-a2dc-3deb4d684559"
   },
   "outputs": [
    {
     "name": "stdout",
     "output_type": "stream",
     "text": [
      "\u001b[0m\u001b[01;34maclImdb\u001b[0m/             \u001b[01;34mdatanew\u001b[0m/                        updatestatus.2\r\n",
      "aclImdb.tgz          \u001b[01;34mdataset\u001b[0m/                        updatestatus.3\r\n",
      "\u001b[01;34mclouderizer\u001b[0m/         \u001b[01;34mdatasets\u001b[0m/                       updatestatus.4\r\n",
      "clouderizer_init.sh  install_clouderizer_service.sh  updatestatus.5\r\n",
      "clouderizer.jar      temp.sh                         updatestatus.6\r\n",
      "clouderizer.service  updatestatus                    updatestatus.7\r\n",
      "colab_init.sh        updatestatus.1                  updatestatus.8\r\n",
      "\u001b[01;34mdata\u001b[0m/                updatestatus.10                 updatestatus.9\r\n",
      "\u001b[01;34mdatalab\u001b[0m/             updatestatus.11\r\n"
     ]
    }
   ],
   "source": [
    "ls"
   ]
  },
  {
   "cell_type": "code",
   "execution_count": 20,
   "metadata": {
    "colab": {
     "autoexec": {
      "startup": false,
      "wait_interval": 0
     },
     "base_uri": "https://localhost:8080/",
     "height": 51
    },
    "colab_type": "code",
    "executionInfo": {
     "elapsed": 1987,
     "status": "ok",
     "timestamp": 1532480754939,
     "user": {
      "displayName": "Rishabh Vij",
      "photoUrl": "https://lh3.googleusercontent.com/a/default-user=s128",
      "userId": "116715461577636413908"
     },
     "user_tz": -330
    },
    "id": "JGk-3J5s97l-",
    "outputId": "7baa80f0-ae1b-42ce-80c7-a1f907dbd33a"
   },
   "outputs": [
    {
     "name": "stdout",
     "output_type": "stream",
     "text": [
      "all\t\t neg  unsup\t     urls_neg.txt  urls_unsup.txt\r\n",
      "labeledBow.feat  pos  unsupBow.feat  urls_pos.txt\r\n"
     ]
    }
   ],
   "source": [
    "! ls aclImdb/train"
   ]
  },
  {
   "cell_type": "code",
   "execution_count": 21,
   "metadata": {
    "colab": {
     "autoexec": {
      "startup": false,
      "wait_interval": 0
     },
     "base_uri": "https://localhost:8080/",
     "height": 34
    },
    "colab_type": "code",
    "executionInfo": {
     "elapsed": 2017,
     "status": "ok",
     "timestamp": 1532480808793,
     "user": {
      "displayName": "Rishabh Vij",
      "photoUrl": "https://lh3.googleusercontent.com/a/default-user=s128",
      "userId": "116715461577636413908"
     },
     "user_tz": -330
    },
    "id": "8IHZaFPj-GDG",
    "outputId": "b8699d49-00d4-4d04-882f-7d7526ecc6cf"
   },
   "outputs": [
    {
     "name": "stdout",
     "output_type": "stream",
     "text": [
      "imdbEr.txt  imdb.vocab  README  \u001b[0m\u001b[01;34mtest\u001b[0m/  \u001b[01;34mtrain\u001b[0m/\r\n"
     ]
    }
   ],
   "source": [
    "PATH='./aclImdb/'\n",
    "\n",
    "TRN_PATH = 'train/all/'\n",
    "VAL_PATH = 'test/all/'\n",
    "TRN = f'{PATH}{TRN_PATH}'\n",
    "VAL = f'{PATH}{VAL_PATH}'\n",
    "\n",
    "%ls {PATH}"
   ]
  },
  {
   "cell_type": "code",
   "execution_count": 24,
   "metadata": {
    "colab": {
     "autoexec": {
      "startup": false,
      "wait_interval": 0
     },
     "base_uri": "https://localhost:8080/",
     "height": 51
    },
    "colab_type": "code",
    "executionInfo": {
     "elapsed": 5376,
     "status": "ok",
     "timestamp": 1532480885112,
     "user": {
      "displayName": "Rishabh Vij",
      "photoUrl": "https://lh3.googleusercontent.com/a/default-user=s128",
      "userId": "116715461577636413908"
     },
     "user_tz": -330
    },
    "id": "LrOUjadJ-V7i",
    "outputId": "d186d6de-4160-4582-ef28-cbbbfa9754dd"
   },
   "outputs": [
    {
     "name": "stdout",
     "output_type": "stream",
     "text": [
      "17486581\n",
      "5686719\n"
     ]
    }
   ],
   "source": [
    "!find {TRN} -name '*.txt' | xargs cat | wc -w\n",
    "!find {VAL} -name '*.txt' | xargs cat | wc -w\n"
   ]
  },
  {
   "cell_type": "markdown",
   "metadata": {
    "colab_type": "text",
    "id": "ymsMeyh6_Ft0"
   },
   "source": [
    "**Lets Tockenize the data, i.e convert the data into an array of words/tockens. We'll use spacy to tockenize the data**"
   ]
  },
  {
   "cell_type": "code",
   "execution_count": 0,
   "metadata": {
    "colab": {
     "autoexec": {
      "startup": false,
      "wait_interval": 0
     }
    },
    "colab_type": "code",
    "id": "HjL64g6g_ctb"
   },
   "outputs": [],
   "source": [
    "spacy_tok = spacy.load('en')\n"
   ]
  },
  {
   "cell_type": "code",
   "execution_count": 0,
   "metadata": {
    "colab": {
     "autoexec": {
      "startup": false,
      "wait_interval": 0
     }
    },
    "colab_type": "code",
    "id": "DKOMwqWOAR2X"
   },
   "outputs": [],
   "source": [
    "TEXT= data.Field(lower=True, tokenize='spacy')"
   ]
  },
  {
   "cell_type": "code",
   "execution_count": 0,
   "metadata": {
    "colab": {
     "autoexec": {
      "startup": false,
      "wait_interval": 0
     }
    },
    "colab_type": "code",
    "id": "J5tlvYp2AxPU"
   },
   "outputs": [],
   "source": [
    "bs=64; bptt=70\n"
   ]
  },
  {
   "cell_type": "code",
   "execution_count": 0,
   "metadata": {
    "colab": {
     "autoexec": {
      "startup": false,
      "wait_interval": 0
     }
    },
    "colab_type": "code",
    "id": "yidyaAK7BLIK"
   },
   "outputs": [],
   "source": [
    "FILES=dict(train=TRN_PATH,validation=VAL_PATH,test=VAL_PATH)"
   ]
  },
  {
   "cell_type": "markdown",
   "metadata": {},
   "source": [
    "**Building a data model object**"
   ]
  },
  {
   "cell_type": "code",
   "execution_count": 0,
   "metadata": {
    "colab": {
     "autoexec": {
      "startup": false,
      "wait_interval": 0
     }
    },
    "colab_type": "code",
    "id": "yf0E-ih_BgX2"
   },
   "outputs": [],
   "source": [
    "md=LanguageModelData.from_text_files(PATH,TEXT,**FILES,bs=bs,bptt=bptt,min_freq=10)"
   ]
  },
  {
   "cell_type": "code",
   "execution_count": 0,
   "metadata": {
    "colab": {
     "autoexec": {
      "startup": false,
      "wait_interval": 0
     }
    },
    "colab_type": "code",
    "id": "r2ib7oW0B6u0"
   },
   "outputs": [],
   "source": [
    "pickle.dump(TEXT, open(f'{PATH}/TEXT.pkl','wb'))\n"
   ]
  },
  {
   "cell_type": "code",
   "execution_count": 51,
   "metadata": {
    "colab": {
     "autoexec": {
      "startup": false,
      "wait_interval": 0
     },
     "base_uri": "https://localhost:8080/",
     "height": 34
    },
    "colab_type": "code",
    "executionInfo": {
     "elapsed": 950,
     "status": "ok",
     "timestamp": 1532483224885,
     "user": {
      "displayName": "Rishabh Vij",
      "photoUrl": "https://lh3.googleusercontent.com/a/default-user=s128",
      "userId": "116715461577636413908"
     },
     "user_tz": -330
    },
    "id": "Vh47CDVeFfS7",
    "outputId": "807efc19-07ba-469a-e034-de63ee6c0190"
   },
   "outputs": [
    {
     "data": {
      "text/plain": [
       "4583"
      ]
     },
     "execution_count": 51,
     "metadata": {
      "tags": []
     },
     "output_type": "execute_result"
    }
   ],
   "source": [
    "len(md.trn_dl) #batches"
   ]
  },
  {
   "cell_type": "code",
   "execution_count": 52,
   "metadata": {
    "colab": {
     "autoexec": {
      "startup": false,
      "wait_interval": 0
     },
     "base_uri": "https://localhost:8080/",
     "height": 34
    },
    "colab_type": "code",
    "executionInfo": {
     "elapsed": 962,
     "status": "ok",
     "timestamp": 1532483238841,
     "user": {
      "displayName": "Rishabh Vij",
      "photoUrl": "https://lh3.googleusercontent.com/a/default-user=s128",
      "userId": "116715461577636413908"
     },
     "user_tz": -330
    },
    "id": "Rd5ESWGpGuRF",
    "outputId": "5796ed39-db25-427a-e74d-109292c072a4"
   },
   "outputs": [
    {
     "data": {
      "text/plain": [
       "37392"
      ]
     },
     "execution_count": 52,
     "metadata": {
      "tags": []
     },
     "output_type": "execute_result"
    }
   ],
   "source": [
    "len(TEXT.vocab) # =no. of tockens/words"
   ]
  },
  {
   "cell_type": "code",
   "execution_count": 62,
   "metadata": {
    "colab": {
     "autoexec": {
      "startup": false,
      "wait_interval": 0
     },
     "base_uri": "https://localhost:8080/",
     "height": 272
    },
    "colab_type": "code",
    "executionInfo": {
     "elapsed": 968,
     "status": "ok",
     "timestamp": 1532483412235,
     "user": {
      "displayName": "Rishabh Vij",
      "photoUrl": "https://lh3.googleusercontent.com/a/default-user=s128",
      "userId": "116715461577636413908"
     },
     "user_tz": -330
    },
    "id": "ntkzgaclG8CT",
    "outputId": "b5258a87-ccf0-4d23-847e-9dd9d9eaa304"
   },
   "outputs": [
    {
     "data": {
      "text/plain": [
       "['<unk>',\n",
       " '<pad>',\n",
       " 'the',\n",
       " ',',\n",
       " '.',\n",
       " 'and',\n",
       " 'a',\n",
       " 'of',\n",
       " 'to',\n",
       " 'is',\n",
       " 'in',\n",
       " 'it',\n",
       " 'i',\n",
       " 'this',\n",
       " 'that']"
      ]
     },
     "execution_count": 62,
     "metadata": {
      "tags": []
     },
     "output_type": "execute_result"
    }
   ],
   "source": [
    "TEXT.vocab.itos[:15]"
   ]
  },
  {
   "cell_type": "code",
   "execution_count": 81,
   "metadata": {
    "colab": {
     "autoexec": {
      "startup": false,
      "wait_interval": 0
     },
     "base_uri": "https://localhost:8080/",
     "height": 34
    },
    "colab_type": "code",
    "executionInfo": {
     "elapsed": 926,
     "status": "ok",
     "timestamp": 1532483780983,
     "user": {
      "displayName": "Rishabh Vij",
      "photoUrl": "https://lh3.googleusercontent.com/a/default-user=s128",
      "userId": "116715461577636413908"
     },
     "user_tz": -330
    },
    "id": "iQbe9-7EHEfv",
    "outputId": "be9e24a5-15d3-4966-c069-1de8847abc8c"
   },
   "outputs": [
    {
     "data": {
      "text/plain": [
       "60"
      ]
     },
     "execution_count": 81,
     "metadata": {
      "tags": []
     },
     "output_type": "execute_result"
    }
   ],
   "source": [
    "TEXT.vocab.stoi['what']"
   ]
  },
  {
   "cell_type": "code",
   "execution_count": 79,
   "metadata": {
    "colab": {
     "autoexec": {
      "startup": false,
      "wait_interval": 0
     },
     "base_uri": "https://localhost:8080/",
     "height": 34
    },
    "colab_type": "code",
    "executionInfo": {
     "elapsed": 1207,
     "status": "ok",
     "timestamp": 1532483638600,
     "user": {
      "displayName": "Rishabh Vij",
      "photoUrl": "https://lh3.googleusercontent.com/a/default-user=s128",
      "userId": "116715461577636413908"
     },
     "user_tz": -330
    },
    "id": "9tuOP2iCH-jf",
    "outputId": "8af0e2f6-cded-4801-8e7f-23e81cf5c305"
   },
   "outputs": [
    {
     "data": {
      "text/plain": [
       "['what', 'this']"
      ]
     },
     "execution_count": 79,
     "metadata": {
      "tags": []
     },
     "output_type": "execute_result"
    }
   ],
   "source": [
    "md.trn_ds[0].text[37358:37360]"
   ]
  },
  {
   "cell_type": "code",
   "execution_count": 80,
   "metadata": {
    "colab": {
     "autoexec": {
      "startup": false,
      "wait_interval": 0
     },
     "base_uri": "https://localhost:8080/",
     "height": 85
    },
    "colab_type": "code",
    "executionInfo": {
     "elapsed": 770,
     "status": "ok",
     "timestamp": 1532483759791,
     "user": {
      "displayName": "Rishabh Vij",
      "photoUrl": "https://lh3.googleusercontent.com/a/default-user=s128",
      "userId": "116715461577636413908"
     },
     "user_tz": -330
    },
    "id": "gIlumalUIp8Z",
    "outputId": "201a0978-a89f-4545-b486-debb8812d6ec"
   },
   "outputs": [
    {
     "data": {
      "text/plain": [
       "Variable containing:\n",
       " 60\n",
       " 13\n",
       "[torch.cuda.LongTensor of size 2x1 (GPU 0)]"
      ]
     },
     "execution_count": 80,
     "metadata": {
      "tags": []
     },
     "output_type": "execute_result"
    }
   ],
   "source": [
    "TEXT.numericalize([md.trn_ds[0].text[37358:37360]])"
   ]
  },
  {
   "cell_type": "code",
   "execution_count": 87,
   "metadata": {
    "colab": {
     "autoexec": {
      "startup": false,
      "wait_interval": 0
     },
     "base_uri": "https://localhost:8080/",
     "height": 306
    },
    "colab_type": "code",
    "executionInfo": {
     "elapsed": 1198,
     "status": "ok",
     "timestamp": 1532483965873,
     "user": {
      "displayName": "Rishabh Vij",
      "photoUrl": "https://lh3.googleusercontent.com/a/default-user=s128",
      "userId": "116715461577636413908"
     },
     "user_tz": -330
    },
    "id": "EgNRK7XPJmsK",
    "outputId": "ee1936ee-aed4-4b58-900b-b60c9903011a"
   },
   "outputs": [
    {
     "data": {
      "text/plain": [
       "(Variable containing:\n",
       "     13      3      6  ...      39    341     10\n",
       "      9     24    410  ...      32   2732      2\n",
       "      2    113      3  ...    1092      2     23\n",
       "         ...            ⋱           ...         \n",
       "    397     50    264  ...       5    105    124\n",
       "      4    941      3  ...    3096    318     11\n",
       "     12     69     12  ...       4     63     31\n",
       " [torch.cuda.LongTensor of size 71x64 (GPU 0)], Variable containing:\n",
       "      9\n",
       "     24\n",
       "    410\n",
       "   ⋮   \n",
       "      2\n",
       "  20031\n",
       "      2\n",
       " [torch.cuda.LongTensor of size 4544 (GPU 0)])"
      ]
     },
     "execution_count": 87,
     "metadata": {
      "tags": []
     },
     "output_type": "execute_result"
    }
   ],
   "source": [
    "next(iter(md.trn_dl))"
   ]
  },
  {
   "cell_type": "code",
   "execution_count": 0,
   "metadata": {
    "colab": {
     "autoexec": {
      "startup": false,
      "wait_interval": 0
     }
    },
    "colab_type": "code",
    "id": "JkbogO7JKRqI"
   },
   "outputs": [],
   "source": [
    "em_sz = 200  # size of each embedding vector\n",
    "nh = 500     # number of hidden activations per layer\n",
    "nl = 3       # number of layers"
   ]
  },
  {
   "cell_type": "code",
   "execution_count": 0,
   "metadata": {
    "colab": {
     "autoexec": {
      "startup": false,
      "wait_interval": 0
     }
    },
    "colab_type": "code",
    "id": "Oup4ydl9KteI"
   },
   "outputs": [],
   "source": [
    "opt_fn = partial(optim.Adam, betas=(0.7, 0.99))\n"
   ]
  },
  {
   "cell_type": "code",
   "execution_count": 0,
   "metadata": {
    "colab": {
     "autoexec": {
      "startup": false,
      "wait_interval": 0
     }
    },
    "colab_type": "code",
    "id": "kvGujv2IK1k7"
   },
   "outputs": [],
   "source": [
    "learner=md.get_model(opt_fn,em_sz,nh,nl,dropouti=0.05, dropout=0.05, wdrop=0.1, dropoute=0.02, dropouth=0.05)\n",
    "learner.reg_fn = partial(seq2seq_reg, alpha=2, beta=1)\n",
    "learner.clip=0.3\n"
   ]
  },
  {
   "cell_type": "markdown",
   "metadata": {},
   "source": [
    "**Let's find the learning rate**"
   ]
  },
  {
   "cell_type": "code",
   "execution_count": 93,
   "metadata": {
    "colab": {
     "autoexec": {
      "startup": false,
      "wait_interval": 0
     },
     "base_uri": "https://localhost:8080/",
     "height": 51
    },
    "colab_type": "code",
    "executionInfo": {
     "elapsed": 1018360,
     "status": "ok",
     "timestamp": 1532485377966,
     "user": {
      "displayName": "Rishabh Vij",
      "photoUrl": "https://lh3.googleusercontent.com/a/default-user=s128",
      "userId": "116715461577636413908"
     },
     "user_tz": -330
    },
    "id": "OsfxyZWuLebv",
    "outputId": "9343d931-9f5b-45c1-a2f8-22f2bf016b7c"
   },
   "outputs": [
    {
     "data": {
      "application/vnd.jupyter.widget-view+json": {
       "model_id": "0b5d65ba99ea4d15867e3218a75c35ac",
       "version_major": 2,
       "version_minor": 0
      },
      "text/plain": [
       "HBox(children=(IntProgress(value=0, description='Epoch', max=1), HTML(value='')))"
      ]
     },
     "metadata": {
      "tags": []
     },
     "output_type": "display_data"
    },
    {
     "name": "stdout",
     "output_type": "stream",
     "text": [
      " 78%|███████▊  | 3574/4583 [16:57<04:47,  3.51it/s, loss=20.8]"
     ]
    }
   ],
   "source": [
    "learner.lr_find()"
   ]
  },
  {
   "cell_type": "code",
   "execution_count": 94,
   "metadata": {
    "colab": {
     "autoexec": {
      "startup": false,
      "wait_interval": 0
     },
     "base_uri": "https://localhost:8080/",
     "height": 283
    },
    "colab_type": "code",
    "executionInfo": {
     "elapsed": 2513,
     "status": "ok",
     "timestamp": 1532485516114,
     "user": {
      "displayName": "Rishabh Vij",
      "photoUrl": "https://lh3.googleusercontent.com/a/default-user=s128",
      "userId": "116715461577636413908"
     },
     "user_tz": -330
    },
    "id": "ZKVi6TdtL5Ub",
    "outputId": "7eb8c9b7-55fa-4b0f-b8f2-cb691c5361d3"
   },
   "outputs": [
    {
     "data": {
      "image/png": "[encoded data removed]",
      "text/plain": [
       "<matplotlib.figure.Figure at 0x7f7a8f8a7898>"
      ]
     },
     "metadata": {
      "tags": []
     },
     "output_type": "display_data"
    }
   ],
   "source": [
    "learner.sched.plot()"
   ]
  },
  {
   "cell_type": "markdown",
   "metadata": {},
   "source": [
    "**Finally we can train our model**"
   ]
  },
  {
   "cell_type": "code",
   "execution_count": 95,
   "metadata": {
    "colab": {
     "autoexec": {
      "startup": false,
      "wait_interval": 0
     },
     "base_uri": "https://localhost:8080/",
     "height": 170
    },
    "colab_type": "code",
    "executionInfo": {
     "elapsed": 39563,
     "status": "error",
     "timestamp": 1532496191713,
     "user": {
      "displayName": "Rishabh Vij",
      "photoUrl": "https://lh3.googleusercontent.com/a/default-user=s128",
      "userId": "116715461577636413908"
     },
     "user_tz": -330
    },
    "id": "CmJ0JDx2QTCa",
    "outputId": "7d54bfee-77ca-4cb8-e5f2-d2dc270f1e5a"
   },
   "outputs": [
    {
     "data": {
      "application/vnd.jupyter.widget-view+json": {
       "model_id": "8fbc3063696d4047b9027692f01a032f",
       "version_major": 2,
       "version_minor": 0
      },
      "text/plain": [
       "HBox(children=(IntProgress(value=0, description='Epoch', max=15), HTML(value='')))"
      ]
     },
     "metadata": {
      "tags": []
     },
     "output_type": "display_data"
    },
    {
     "name": "stdout",
     "output_type": "stream",
     "text": [
      "epoch      trn_loss   val_loss   \n",
      "    0      5.008197   4.903154  \n",
      " 17%|█▋        | 782/4583 [03:41<17:55,  3.53it/s, loss=4.99]    1      4.720652   4.599742  \n",
      "    2      4.614315   4.513558  \n",
      "    3      4.633103   4.515658  \n",
      "    4      4.543493   4.436014  \n",
      "    5      4.481192   4.381148  \n",
      " 34%|███▍      | 1580/4583 [07:30<14:16,  3.51it/s, loss=4.48]Buffered data was truncated after reaching the output size limit."
     ]
    }
   ],
   "source": [
    "learner.fit(3e-3,4,cycle_len=1,cycle_mult=2,wds=1e-6)"
   ]
  },
  {
   "cell_type": "code",
   "execution_count": 99,
   "metadata": {
    "colab": {
     "autoexec": {
      "startup": false,
      "wait_interval": 0
     },
     "base_uri": "https://localhost:8080/",
     "height": 595
    },
    "colab_type": "code",
    "executionInfo": {
     "elapsed": 970,
     "status": "ok",
     "timestamp": 1532498671236,
     "user": {
      "displayName": "Rishabh Vij",
      "photoUrl": "https://lh3.googleusercontent.com/a/default-user=s128",
      "userId": "116715461577636413908"
     },
     "user_tz": -330
    },
    "id": "cqPUKI3YRkY4",
    "outputId": "c6166674-ba0c-4fe1-e574-1426e8988e7c"
   },
   "outputs": [
    {
     "data": {
      "text/plain": [
       "SequentialRNN(\n",
       "  (0): RNN_Encoder(\n",
       "    (encoder): Embedding(37392, 200, padding_idx=1)\n",
       "    (encoder_with_dropout): EmbeddingDropout(\n",
       "      (embed): Embedding(37392, 200, padding_idx=1)\n",
       "    )\n",
       "    (rnns): ModuleList(\n",
       "      (0): WeightDrop(\n",
       "        (module): LSTM(200, 500)\n",
       "      )\n",
       "      (1): WeightDrop(\n",
       "        (module): LSTM(500, 500)\n",
       "      )\n",
       "      (2): WeightDrop(\n",
       "        (module): LSTM(500, 200)\n",
       "      )\n",
       "    )\n",
       "    (dropouti): LockedDropout(\n",
       "    )\n",
       "    (dropouths): ModuleList(\n",
       "      (0): LockedDropout(\n",
       "      )\n",
       "      (1): LockedDropout(\n",
       "      )\n",
       "      (2): LockedDropout(\n",
       "      )\n",
       "    )\n",
       "  )\n",
       "  (1): LinearDecoder(\n",
       "    (decoder): Linear(in_features=200, out_features=37392)\n",
       "    (dropout): LockedDropout(\n",
       "    )\n",
       "  )\n",
       ")"
      ]
     },
     "execution_count": 99,
     "metadata": {
      "tags": []
     },
     "output_type": "execute_result"
    }
   ],
   "source": [
    "learner"
   ]
  },
  {
   "cell_type": "code",
   "execution_count": 114,
   "metadata": {
    "colab": {
     "autoexec": {
      "startup": false,
      "wait_interval": 0
     },
     "base_uri": "https://localhost:8080/",
     "height": 34
    },
    "colab_type": "code",
    "executionInfo": {
     "elapsed": 857,
     "status": "ok",
     "timestamp": 1532502585374,
     "user": {
      "displayName": "Rishabh Vij",
      "photoUrl": "https://lh3.googleusercontent.com/a/default-user=s128",
      "userId": "116715461577636413908"
     },
     "user_tz": -330
    },
    "id": "Up5nX4-xOZzN",
    "outputId": "339d55ec-fcc1-449a-dd7c-4ffb040e0f27"
   },
   "outputs": [
    {
     "data": {
      "text/plain": [
       "('accuracy.= ', 99.45865199925045)"
      ]
     },
     "execution_count": 114,
     "metadata": {
      "tags": []
     },
     "output_type": "execute_result"
    }
   ],
   "source": [
    "'accuracy.= ',math.exp( 4.599742)"
   ]
  },
  {
   "cell_type": "code",
   "execution_count": 0,
   "metadata": {
    "colab": {
     "autoexec": {
      "startup": false,
      "wait_interval": 0
     }
    },
    "colab_type": "code",
    "id": "kbJRFVOWRRDg"
   },
   "outputs": [],
   "source": []
  }
 ],
 "metadata": {
  "accelerator": "GPU",
  "colab": {
   "collapsed_sections": [],
   "default_view": {},
   "name": "Untitled2.ipynb",
   "provenance": [],
   "version": "0.3.2",
   "views": {}
  },
  "kernelspec": {
   "display_name": "Python 3",
   "language": "python",
   "name": "python3"
  },
  "language_info": {
   "codemirror_mode": {
    "name": "ipython",
    "version": 3
   },
   "file_extension": ".py",
   "mimetype": "text/x-python",
   "name": "python",
   "nbconvert_exporter": "python",
   "pygments_lexer": "ipython3",
   "version": "3.6.5"
  }
 },
 "nbformat": 4,
 "nbformat_minor": 1
}
